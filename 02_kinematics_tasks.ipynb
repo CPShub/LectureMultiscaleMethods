{
 "cells": [
  {
   "cell_type": "markdown",
   "metadata": {},
   "source": [
    "# Kinematics Tasks"
   ]
  },
  {
   "cell_type": "markdown",
   "metadata": {},
   "source": [
    "1. Calculate the deformation gradient for the prototype deformations and study their polar and volumetric decomposition. Which deformations include a rotation of the body?\n",
    "\n",
    "    Uniaxial Tension: \n",
    "$\\boldsymbol{u}=\\left( \\begin{array}{c} \\varepsilon \\cdot x_1 \\\\\\ 0\\end{array}\\right)$\n",
    "\n",
    "    Equibiaxial Tension: \n",
    "$\\boldsymbol{u}=\\left( \\begin{array}{c} \\varepsilon \\cdot x_1 \\\\\\ \\varepsilon \\cdot x_2\\end{array}\\right)$\n",
    "   \n",
    "    Simple Shear:\n",
    "$\\boldsymbol{u}=\\left( \\begin{array}{c} \\varepsilon \\cdot x_2 \\\\\\ 0\\end{array}\\right)$\n",
    "\n",
    "    Pure Shear:\n",
    "$\\boldsymbol{u}=\\left( \\begin{array}{c} \\varepsilon \\cdot x_2 \\\\\\  \\varepsilon \\cdot x_1\\end{array}\\right)$"
   ]
  },
  {
   "cell_type": "markdown",
   "metadata": {},
   "source": [
    "2. Compare the polar decomposition and the main directions of pure and simple shear."
   ]
  },
  {
   "cell_type": "markdown",
   "metadata": {},
   "source": [
    "3. Calculate the displacement field and the deformation gradient for a rigid body motion, a pure rotation and a purely volumetric strain.\n",
    "\n",
    "    Rotation Matrix around the $x_3$-axis: $\\boldsymbol{R}\\left(\\alpha\\right)=\\left( \\begin{array}{ccc} \\text{cos}\\left(\\alpha\\right) & -\\text{sin}\\left(\\alpha\\right) & 0\\\\\\ \\text{sin}\\left(\\alpha\\right) & \\text{cos}\\left(\\alpha\\right) & 0  \\\\\\ 0 & 0 & 1 \\end{array}\\right)$"
   ]
  },
  {
   "cell_type": "markdown",
   "metadata": {},
   "source": [
    "4. Compare the Green-Lagrange and the linearized strain tensor for a pure rotation.\n",
    "\n",
    "    Comment: Use a rotation of around $0.2 \\cdot \\pi$."
   ]
  }
 ],
 "metadata": {
  "kernelspec": {
   "display_name": "Python 3",
   "language": "python",
   "name": "python3"
  },
  "language_info": {
   "codemirror_mode": {
    "name": "ipython",
    "version": 3
   },
   "file_extension": ".py",
   "mimetype": "text/x-python",
   "name": "python",
   "nbconvert_exporter": "python",
   "pygments_lexer": "ipython3",
   "version": "3.7.6"
  }
 },
 "nbformat": 4,
 "nbformat_minor": 4
}
