{
 "cells": [
  {
   "cell_type": "markdown",
   "metadata": {
    "slideshow": {
     "slide_type": "slide"
    }
   },
   "source": [
    "# Data-driven modeling 1 - multiscale problems and nonlinear material behavior\n",
    "\n",
    "Lecturer: Dr.-Ing. Mauricio Fernández"
   ]
  },
  {
   "cell_type": "markdown",
   "metadata": {
    "slideshow": {
     "slide_type": "subslide"
    }
   },
   "source": [
    "## Contents of this lecture\n",
    "\n",
    "[1. Multiscale problems](#1.-Multiscale-problems)\n",
    "\n",
    "[2. Data-driven material modeling](#2.-Data-driven-material-modeling)"
   ]
  },
  {
   "cell_type": "code",
   "execution_count": 1,
   "metadata": {
    "slideshow": {
     "slide_type": "subslide"
    }
   },
   "outputs": [],
   "source": [
    "import numpy as np\n",
    "import matplotlib.pyplot as plt"
   ]
  },
  {
   "cell_type": "markdown",
   "metadata": {
    "slideshow": {
     "slide_type": "slide"
    }
   },
   "source": [
    "## 1. Two-scale problem\n",
    "\n",
    "Consider the following problem (see [Fritzen, Fernández and Larsson, 2019](https://www.frontiersin.org/articles/10.3389/fmats.2019.00075/full)), where $\\overline{\\varepsilon}$ is the macroscopic infinitesimal strain tensor and $\\overline{\\sigma}$ is the macroscopic Cauchy stress tensor in the microscopic problem.\n",
    "\n",
    "<img src=\"./files/figures/problem.png\" alt=\"neural netowork\" width=\"400\" align=\"center\">\n",
    "\n",
    "How would you solve the macroscopic and microscopic problems in a mechanical simulation?"
   ]
  },
  {
   "cell_type": "markdown",
   "metadata": {
    "slideshow": {
     "slide_type": "subslide"
    }
   },
   "source": [
    "### Approaches\n",
    "\n",
    "<img src=\"./files/figures/problem.png\" alt=\"neural netowork\" width=\"400\" align=\"right\">\n",
    "\n",
    "Macro:\n",
    "* FE\n",
    "* FD\n",
    "* Other numerical approaches\n",
    "\n",
    "Micro:\n",
    "* FE (resulting in FE$^2$)\n",
    "* FFT\n",
    "* Analytical methods\n",
    "* ?"
   ]
  },
  {
   "cell_type": "markdown",
   "metadata": {
    "slideshow": {
     "slide_type": "subslide"
    }
   },
   "source": [
    "### What can you do if you have collected data?\n",
    "\n",
    "<img src=\"./files/figures/rve.png\" width=\"400\" align=\"right\">\n",
    "\n",
    "Image you have access to a dataset\n",
    "\n",
    "$$\n",
    "D = \\{\n",
    "(\\overline{\\varepsilon}_1, \\overline{\\sigma}_1), \n",
    "(\\overline{\\varepsilon}_2, \\overline{\\sigma}_2), \n",
    "\\dots\n",
    "\\}\n",
    "$$\n",
    "\n",
    "Think of it as\n",
    "\n",
    "$$\n",
    "D = \\{\n",
    "(x_1, f_1), \n",
    "(x_2, f_2), \n",
    "\\dots\n",
    "\\}\n",
    "$$"
   ]
  },
  {
   "cell_type": "code",
   "execution_count": 2,
   "metadata": {
    "slideshow": {
     "slide_type": "subslide"
    }
   },
   "outputs": [
    {
     "data": {
      "image/png": "[encoded data removed]",
      "text/plain": [
       "<Figure size 432x288 with 1 Axes>"
      ]
     },
     "metadata": {},
     "output_type": "display_data"
    }
   ],
   "source": [
    "data = np.array([[0, 0], [0.05, 4], [0.1, 5], [0.15, 5.4], [0.2, 5.5]])\n",
    "x = data[:, 0]\n",
    "f = data[:, 1]\n",
    "fig_xf = plt.figure()\n",
    "plt.scatter(x, f, label='data')\n",
    "plt.xlabel('$\\\\overline{\\\\varepsilon} = x$')\n",
    "plt.ylabel('$\\\\overline{\\\\sigma}(\\\\overline{\\\\varepsilon}) = f(x)$')\n",
    "plt.legend()\n",
    "plt.show()"
   ]
  },
  {
   "cell_type": "markdown",
   "metadata": {
    "slideshow": {
     "slide_type": "subslide"
    }
   },
   "source": [
    "### Data for nonlinear material behavior\n",
    "\n",
    "Data from [Fritzen, Fernández and Larsson, 2019](https://www.frontiersin.org/articles/10.3389/fmats.2019.00075/full)): 3-phase material (ideally plastic, linear hardening and elastic phases)\n",
    "\n",
    "<img src=\"./files/figures/rve.png\" width=\"250\" align=\"left\">\n",
    "<img src=\"./files/figures/e_s.png\" width=\"250\" align=\"left\">\n",
    "<img src=\"./files/figures/e_svm.png\" width=\"250\" align=\"left\">"
   ]
  },
  {
   "cell_type": "markdown",
   "metadata": {
    "slideshow": {
     "slide_type": "subslide"
    }
   },
   "source": [
    "Strain and stress tensors given as 6-dimensional vectors based on the following convention:\n",
    "$$\n",
    "\\varepsilon = (\n",
    "\\varepsilon_{11},\n",
    "\\varepsilon_{22},\n",
    "\\varepsilon_{33},\n",
    "\\sqrt{2} \\varepsilon_{12},\n",
    "\\sqrt{2} \\varepsilon_{13},\n",
    "\\sqrt{2} \\varepsilon_{23}\n",
    ") \n",
    "\\in \\mathbb{R}^6\n",
    "$$\n",
    "\n",
    "$$\n",
    "\\sigma = (\n",
    "\\sigma_{11},\n",
    "\\sigma_{22},\n",
    "\\sigma_{33},\n",
    "\\sqrt{2} \\sigma_{12},\n",
    "\\sqrt{2} \\sigma_{13},\n",
    "\\sqrt{2} \\sigma_{23}\n",
    ") \n",
    "\\in \\mathbb{R}^6\n",
    "$$"
   ]
  },
  {
   "cell_type": "markdown",
   "metadata": {
    "slideshow": {
     "slide_type": "slide"
    }
   },
   "source": [
    "## 2. Data-driven material modeling\n",
    "\n",
    "If (enough) data of a system is available, then a surrogate model replacing a complex one can be calibrated.\n",
    "\n",
    "<img src=\"./files/figures/problem.png\" alt=\"neural netowork\" width=\"300\" align=\"left\">\n",
    "<img src=\"./files/figures/e_svm.png\" alt=\"neural netowork\" width=\"300\" align=\"left\">"
   ]
  },
  {
   "cell_type": "markdown",
   "metadata": {},
   "source": [
    "Questions:\n",
    "* What about the quality of the surrogate model?\n",
    "* Which properties are desired for the surrogate model?\n",
    "* What about evaluation of a surrogate outside of data range?"
   ]
  },
  {
   "cell_type": "markdown",
   "metadata": {
    "slideshow": {
     "slide_type": "subslide"
    }
   },
   "source": [
    "### Options for the generation of a surrogate\n",
    "\n",
    "* Interpolation\n",
    "* \"Sensible\" functions based on experience\n",
    "* Artificial intelligence"
   ]
  }
 ],
 "metadata": {
  "celltoolbar": "Slideshow",
  "kernelspec": {
   "display_name": "Python 3",
   "language": "python",
   "name": "python3"
  },
  "language_info": {
   "codemirror_mode": {
    "name": "ipython",
    "version": 3
   },
   "file_extension": ".py",
   "mimetype": "text/x-python",
   "name": "python",
   "nbconvert_exporter": "python",
   "pygments_lexer": "ipython3",
   "version": "3.7.7"
  },
  "toc": {
   "base_numbering": 1,
   "nav_menu": {},
   "number_sections": true,
   "sideBar": true,
   "skip_h1_title": false,
   "title_cell": "Table of Contents",
   "title_sidebar": "Contents",
   "toc_cell": false,
   "toc_position": {},
   "toc_section_display": true,
   "toc_window_display": false
  },
  "varInspector": {
   "cols": {
    "lenName": 16,
    "lenType": 16,
    "lenVar": 40
   },
   "kernels_config": {
    "python": {
     "delete_cmd_postfix": "",
     "delete_cmd_prefix": "del ",
     "library": "var_list.py",
     "varRefreshCmd": "print(var_dic_list())"
    },
    "r": {
     "delete_cmd_postfix": ") ",
     "delete_cmd_prefix": "rm(",
     "library": "var_list.r",
     "varRefreshCmd": "cat(var_dic_list()) "
    }
   },
   "types_to_exclude": [
    "module",
    "function",
    "builtin_function_or_method",
    "instance",
    "_Feature"
   ],
   "window_display": false
  }
 },
 "nbformat": 4,
 "nbformat_minor": 2
}
