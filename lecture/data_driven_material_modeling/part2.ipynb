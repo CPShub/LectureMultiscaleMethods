{
 "cells": [
  {
   "cell_type": "markdown",
   "metadata": {
    "slideshow": {
     "slide_type": "slide"
    }
   },
   "source": [
    "# Data-driven modeling 2 - introduction to artificial neural networks\n",
    "\n",
    "Lecturer: Dr.-Ing. Mauricio Fernández"
   ]
  },
  {
   "cell_type": "markdown",
   "metadata": {
    "slideshow": {
     "slide_type": "subslide"
    }
   },
   "source": [
    "## Contents of this lecture\n",
    "\n",
    "[1. Short overview of artificial intelligence](#1.-Short-overview-of-artificial-intelligence-(AI))\n",
    "\n",
    "[2. Introduction to artificial neural networks](#2.-Introduction-to-artificial-neural-networks-(ANN))\n",
    "\n",
    "[3. How to build a basic tf.keras model](#3.-How-to-build-a-basic-tf.keras-model)"
   ]
  },
  {
   "cell_type": "markdown",
   "metadata": {
    "slideshow": {
     "slide_type": "slide"
    }
   },
   "source": [
    "## 1. Short overview of artificial intelligence (AI)\n",
    "\n",
    "Some definitions in the web:\n",
    "- the theory and development of computer systems able to perform tasks normally requiring human intelligence, such as visual perception, speech recognition, decision-making, and translation between languages.\n",
    "- study of \"intelligent agents\": any device that perceives its environment and takes actions that maximize its chance of successfully achieving its goals\n",
    "\n",
    "<img src=\"https://images.theconversation.com/files/168081/original/file-20170505-21003-zbguhy.jpg?ixlib=rb-1.1.0&q=45&auto=format&w=926&fit=clip\" alt=\"neural netowork\" width=\"300\" align=\"right\">\n",
    "\n",
    "Computational methods in AI:\n",
    "- Data mining\n",
    "- Machine learning\n",
    "    - Artificial neural networks (ANN)\n",
    "        - Single layer learning\n",
    "        - **Deep learning (DL)**\n",
    "    - Kernel methods (SVM,...)\n",
    "    - Decision trees\n",
    "    - ...\n",
    "- ..."
   ]
  },
  {
   "cell_type": "markdown",
   "metadata": {
    "slideshow": {
     "slide_type": "subslide"
    }
   },
   "source": [
    "## Why ANN?\n",
    "\n",
    "Pros:\n",
    "- Enourmous flexibility due to high number of parameters\n",
    "- Capability to represent complex functions\n",
    "- Huge range of applications (visual perception, decision-making, ...) in industry and research\n",
    "- Open high-performance software (TensorFlow, Keras, PyTorch, Scikit-learn,...)\n",
    "\n",
    "<img src=\"https://s3.amazonaws.com/keras.io/img/keras-logo-2018-large-1200.png\" alt=\"Keras\" width=\"200\" align=\"right\">\n",
    "<img src=\"https://www.tensorflow.org/images/tf_logo_social.png\" alt=\"TensoFlow\" width=\"200\" align=\"right\">\n",
    "\n",
    "Cons:\n",
    "- Difficult to train (vanishing gradient,...)\n",
    "- High number of internal parameters"
   ]
  },
  {
   "cell_type": "markdown",
   "metadata": {
    "slideshow": {
     "slide_type": "slide"
    }
   },
   "source": [
    "## 2. Introduction to artificial neural networks (ANN)\n",
    "\n",
    "Needed modules"
   ]
  },
  {
   "cell_type": "code",
   "execution_count": 1,
   "metadata": {
    "slideshow": {
     "slide_type": "-"
    }
   },
   "outputs": [],
   "source": [
    "import tensorflow as tf\n",
    "import numpy as np\n",
    "import matplotlib.pyplot as plt"
   ]
  },
  {
   "cell_type": "markdown",
   "metadata": {
    "slideshow": {
     "slide_type": "subslide"
    }
   },
   "source": [
    "## Neuron model\n",
    "\n",
    "**Neuron:** single unit cell processing incoming electric signals (input)\n",
    "\n",
    "<img src=\"https://images.theconversation.com/files/168081/original/file-20170505-21003-zbguhy.jpg?ixlib=rb-1.1.0&q=45&auto=format&w=926&fit=clip\" alt=\"neural netowork\" width=\"200\" align=\"left\">\n",
    "<img src=\"https://s3.amazonaws.com/assets.datacamp.com/blog_assets/Keras+Python+Tutorial/content_content_neuron.png\" alt=\"neuron\" width=\"600\" align=\"center\">\n",
    "\n",
    "**Mathematical model:** input $x$ with output $y$ and internal parameters $w$ (weight), $b$ (bias) and activation function $a(z)$\n",
    "$$\n",
    "\\hat{y} = a(wx +b)\n",
    "$$\n",
    "\n",
    "**Example:**\n",
    "$$\n",
    "\\hat{y} = \\tanh(0.3x - 3)\n",
    "$$"
   ]
  },
  {
   "cell_type": "markdown",
   "metadata": {
    "slideshow": {
     "slide_type": "subslide"
    }
   },
   "source": [
    "## Activation functions\n",
    "\n",
    "$$ a(z) = a(w x + b) $$"
   ]
  },
  {
   "cell_type": "code",
   "execution_count": 2,
   "metadata": {
    "scrolled": true,
    "slideshow": {
     "slide_type": "skip"
    }
   },
   "outputs": [],
   "source": [
    "z = np.linspace(-3, 3, 100)\n",
    "fig_a = plt.figure()\n",
    "plt.plot(z, tf.nn.relu(z), label='relu')\n",
    "plt.plot(z, tf.nn.softplus(z), label='softplus')\n",
    "plt.plot(z, tf.nn.tanh(z), label='tanh')\n",
    "plt.plot(z, tf.nn.sigmoid(z), label='sigmoid')\n",
    "plt.xlabel('$z$')\n",
    "plt.ylabel('$a(z)$')\n",
    "plt.legend()\n",
    "plt.close()"
   ]
  },
  {
   "cell_type": "code",
   "execution_count": 3,
   "metadata": {},
   "outputs": [
    {
     "data": {
      "image/png": "[encoded data removed]",
      "text/plain": [
       "<Figure size 432x288 with 1 Axes>"
      ]
     },
     "execution_count": 3,
     "metadata": {},
     "output_type": "execute_result"
    }
   ],
   "source": [
    "fig_a"
   ]
  },
  {
   "cell_type": "markdown",
   "metadata": {
    "slideshow": {
     "slide_type": "subslide"
    }
   },
   "source": [
    "## ANN architecture\n",
    "\n",
    "**Example 1:** Two one-dimensional layers\n",
    "$$\n",
    "\\hat{y} = a^{(2)}(w^{(2)}a^{(1)}(w^{(1)}x+b^{(1)})+b^{(2)})\n",
    "$$\n",
    "\n",
    "**Example 2:** Network for 2D input and 1D output with one hidden layer (3 neurons) and identity final activation \n",
    "$$\n",
    "\\hat{y} = \n",
    "\\begin{pmatrix}\n",
    "w^{(2)}_1 & w^{(2)}_2 & w^{(2)}_3\n",
    "\\end{pmatrix}\n",
    "a^{(1)}\n",
    "\\left(\n",
    "\\begin{pmatrix}\n",
    "w^{(1)}_{11} & w^{(1)}_{12} \\\\\n",
    "w^{(1)}_{21} & w^{(1)}_{22} \\\\\n",
    "w^{(1)}_{31} & w^{(1)}_{32} \\\\\n",
    "\\end{pmatrix}\n",
    "\\begin{pmatrix}\n",
    "x_1 \\\\ x_2\n",
    "\\end{pmatrix}\n",
    "+\n",
    "\\begin{pmatrix}\n",
    "b^{(1)}_1 \\\\ b^{(1)}_2 \\\\ b^{(1)}_3\n",
    "\\end{pmatrix}\n",
    "\\right)\n",
    "+\n",
    "b^{(2)}\n",
    "$$\n",
    "\n",
    "<img src=\"./files/figures/network1.png\" alt=\"network1\" width=\"300\" align=\"center\">\n",
    "\n",
    "[Draw networks](http://alexlenail.me/NN-SVG/index.html)"
   ]
  },
  {
   "cell_type": "markdown",
   "metadata": {
    "slideshow": {
     "slide_type": "subslide"
    }
   },
   "source": [
    "## Deep networks\n",
    "\n",
    "Lots of layers\n",
    "\n",
    "<img src=\"./files/figures/network2.png\" alt=\"network2\" width=\"600\" align=\"left\">\n",
    "<img src=\"https://images.theconversation.com/files/168081/original/file-20170505-21003-zbguhy.jpg?ixlib=rb-1.1.0&q=45&auto=format&w=926&fit=clip\" alt=\"neural network\" width=\"200\" align=\"right\">"
   ]
  },
  {
   "cell_type": "markdown",
   "metadata": {
    "slideshow": {
     "slide_type": "subslide"
    }
   },
   "source": [
    "## Training an ANN\n",
    "\n",
    "<img src=\"./files/figures/network2.png\" alt=\"network2\" width=\"400\" align=\"right\">\n",
    "\n",
    "For input vector $x \\in \\mathbb{R}^3$ consider the network $\\hat{y}(x) \\in \\mathbb{R}^2$ for the approximation of a vector function $y(x) \\in \\mathbb{R}^2$. After fixing the architecture of the network (number of layers, number of neurons and activation functions), the remaining parameters (weights and biases) need calibration. This is achieved in **supervised learning** through the minimization of an objective function (referred to as **loss**) for provided dataset $D$ with $N$ data pairs\n",
    "$$\n",
    "    D = \\{(x^{(1)},y^{(1)}),(x^{(2)},y^{(2)}),\\dots,(x^{(N)},y^{(N)})\\}\n",
    "$$\n",
    "which the ANN $\\hat{y}(x)$ is required to approximate. \n",
    "\n",
    "Example loss: mean squared error (MSE) $e(y,\\hat{y})$ for each data pair averaged over the complete dataset\n",
    "$$\n",
    " L = \\frac{1}{N} \\sum_{i=1}^N e(y^{(i)}, \\hat{y}^{(i)})\n",
    " \\ , \\quad\n",
    " e(y,\\hat{y}) = \\frac{1}{2}\\sum_{j=1}^2(y_j-\\hat{y}_j)^2\n",
    "$$\n",
    "\n",
    "The calibration of weights and biases based on the minimization of the loss for given data is referred to as **training**."
   ]
  },
  {
   "cell_type": "markdown",
   "metadata": {
    "slideshow": {
     "slide_type": "subslide"
    }
   },
   "source": [
    "## Standard problems\n",
    "\n",
    "**Regression:** fit a model $\\hat{y}(x)$ to approximate a function $y(x)$.\n",
    "* $x = 14.5$\n",
    "* $y(x) = 3\\sin(14.5)+10 = 12.8...$\n",
    "* $\\hat{y}(x) = 11.3...$\n",
    "\n",
    "**Classification:** fit a model $\\hat{y}(x)$ predicting that $x$ belongs to one of $C$ classes.\n",
    "* $C=4$ classes $\\{$cat,dog,horse,pig$\\}$\n",
    "* $x =$ image of a horse\n",
    "* $y(x) = (0,0,1,0)$ (third class = horse)\n",
    "* $\\hat{y}(x) = (0.1,0.2,0.4,0.3)$ (class probabilities - model predicts for the third class the highest probability)"
   ]
  },
  {
   "cell_type": "markdown",
   "metadata": {
    "slideshow": {
     "slide_type": "slide"
    }
   },
   "source": [
    "## 3. How to build a basic tf.keras model\n",
    "\n",
    "<img src=\"./files/figures/network1.png\" alt=\"network1\" width=\"300\" align=\"ceter\">"
   ]
  },
  {
   "cell_type": "code",
   "execution_count": 4,
   "metadata": {
    "slideshow": {
     "slide_type": "-"
    }
   },
   "outputs": [],
   "source": [
    "# Create sequential model\n",
    "model = tf.keras.Sequential([\n",
    "    tf.keras.layers.Dense(3, activation='relu', input_shape=[2]) \n",
    "    # 3x2 weights and 3 biases = 9 parameters\n",
    "    ,tf.keras.layers.Dense(1)  \n",
    "    # 1x3 weights and 1 bias = 4 parameters\n",
    "])"
   ]
  },
  {
   "cell_type": "code",
   "execution_count": 5,
   "metadata": {
    "slideshow": {
     "slide_type": "subslide"
    }
   },
   "outputs": [
    {
     "name": "stdout",
     "output_type": "stream",
     "text": [
      "Model: \"sequential\"\n",
      "_________________________________________________________________\n",
      "Layer (type)                 Output Shape              Param #   \n",
      "=================================================================\n",
      "dense (Dense)                (None, 3)                 9         \n",
      "_________________________________________________________________\n",
      "dense_1 (Dense)              (None, 1)                 4         \n",
      "=================================================================\n",
      "Total params: 13\n",
      "Trainable params: 13\n",
      "Non-trainable params: 0\n",
      "_________________________________________________________________\n"
     ]
    }
   ],
   "source": [
    "# Model summary\n",
    "model.summary()"
   ]
  },
  {
   "cell_type": "markdown",
   "metadata": {
    "slideshow": {
     "slide_type": "subslide"
    }
   },
   "source": [
    "<img src=\"./files/figures/network1.png\" alt=\"network1\" width=\"300\" align=\"ceter\">"
   ]
  },
  {
   "cell_type": "code",
   "execution_count": 6,
   "metadata": {
    "slideshow": {
     "slide_type": "-"
    }
   },
   "outputs": [
    {
     "name": "stdout",
     "output_type": "stream",
     "text": [
      "[[0.       ]\n",
      " [1.1679914]\n",
      " [1.6867402]]\n"
     ]
    }
   ],
   "source": [
    "# List of 3 points to be evaluated\n",
    "xs = np.array([\n",
    "    [0, 0], \n",
    "    [0, np.pi], \n",
    "    [np.pi, np.pi]\n",
    "])\n",
    "\n",
    "# Prediction / model evaluation\n",
    "ys_model = model.predict(xs)\n",
    "print(ys_model)"
   ]
  },
  {
   "cell_type": "markdown",
   "metadata": {
    "slideshow": {
     "slide_type": "subslide"
    }
   },
   "source": [
    "$$ y = 3 \\sin(x_1 + x_2) + 10 $$"
   ]
  },
  {
   "cell_type": "code",
   "execution_count": 7,
   "metadata": {
    "slideshow": {
     "slide_type": "-"
    }
   },
   "outputs": [
    {
     "name": "stdout",
     "output_type": "stream",
     "text": [
      "[[0.         0.        ]\n",
      " [0.         3.14159265]\n",
      " [3.14159265 3.14159265]]\n",
      "[[10.]\n",
      " [10.]\n",
      " [10.]]\n",
      "[[0.2657419]\n",
      " [2.1094053]\n",
      " [3.2435544]]\n"
     ]
    }
   ],
   "source": [
    "# Data of function to be approximated (e.g., from measurements or simulations)\n",
    "ys = 3*np.sin(np.sum(xs, axis=1, keepdims=True))+10\n",
    "\n",
    "# Compile model: choose optimizer and loss\n",
    "model.compile(optimizer='adam', loss='mse')\n",
    "\n",
    "# Train\n",
    "model.fit(xs, ys, epochs=100, verbose=0)\n",
    "\n",
    "# Predict after training\n",
    "ys_model = model.predict(xs)\n",
    "print(xs)\n",
    "print(ys)\n",
    "print(ys_model)"
   ]
  }
 ],
 "metadata": {
  "celltoolbar": "Slideshow",
  "kernelspec": {
   "display_name": "Python 3 (Spyder)",
   "language": "python3",
   "name": "python3"
  },
  "language_info": {
   "codemirror_mode": {
    "name": "ipython",
    "version": 3
   },
   "file_extension": ".py",
   "mimetype": "text/x-python",
   "name": "python",
   "nbconvert_exporter": "python",
   "pygments_lexer": "ipython3",
   "version": "3.7.7"
  },
  "toc": {
   "base_numbering": 1,
   "nav_menu": {},
   "number_sections": true,
   "sideBar": true,
   "skip_h1_title": false,
   "title_cell": "Table of Contents",
   "title_sidebar": "Contents",
   "toc_cell": false,
   "toc_position": {},
   "toc_section_display": true,
   "toc_window_display": false
  },
  "varInspector": {
   "cols": {
    "lenName": 16,
    "lenType": 16,
    "lenVar": 40
   },
   "kernels_config": {
    "python": {
     "delete_cmd_postfix": "",
     "delete_cmd_prefix": "del ",
     "library": "var_list.py",
     "varRefreshCmd": "print(var_dic_list())"
    },
    "r": {
     "delete_cmd_postfix": ") ",
     "delete_cmd_prefix": "rm(",
     "library": "var_list.r",
     "varRefreshCmd": "cat(var_dic_list()) "
    }
   },
   "types_to_exclude": [
    "module",
    "function",
    "builtin_function_or_method",
    "instance",
    "_Feature"
   ],
   "window_display": false
  }
 },
 "nbformat": 4,
 "nbformat_minor": 2
}
