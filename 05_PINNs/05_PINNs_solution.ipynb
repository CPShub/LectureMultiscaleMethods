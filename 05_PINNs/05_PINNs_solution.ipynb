{
 "cells": [
  {
   "cell_type": "markdown",
   "metadata": {},
   "source": [
    "# Data-driven modeling - Tutorial 3 - Physics-informed neural networks\n",
    "\n",
    "Lecturer: Dominik Klein"
   ]
  },
  {
   "cell_type": "markdown",
   "metadata": {},
   "source": [
    "## Exercise\n",
    "\n",
    "Create a Tensorflow model for the uniaxial deformation mode of the BCC cell. Use three layers with 16 nodes in each layer, with softplus activation functions. Use two network architectures:\n",
    "1. \"Simple\" neural network without additional physical information. Input: {F11, F22, F33}, output: {P11, P22, P33}\n",
    "2. Physics-informed neural network: model the hyperelastic potential, use $\\boldsymbol{P}=\\partial_{\\boldsymbol{F}}W$ to calculate the stress"
   ]
  },
  {
   "cell_type": "markdown",
   "metadata": {},
   "source": [
    "## 1. \"Simple\" neural network"
   ]
  },
  {
   "cell_type": "code",
   "execution_count": null,
   "metadata": {
    "scrolled": false
   },
   "outputs": [],
   "source": [
    "# Import modules\n",
    "import numpy  as np\n",
    "import tensorflow as tf\n",
    "import matplotlib.pyplot as plt"
   ]
  },
  {
   "cell_type": "markdown",
   "metadata": {},
   "source": [
    "### Import data"
   ]
  },
  {
   "cell_type": "code",
   "execution_count": null,
   "metadata": {},
   "outputs": [],
   "source": [
    "# Load data for uniaxial deformation case of cubic 'BCC' cell\n",
    "data = np.loadtxt(f'BCC_uniaxial.txt')\n",
    "\n",
    "print(data.shape)\n",
    "\n",
    "Fs = np.array((data[:,0], data[:,4], data[:,8])).transpose()\n",
    "Ps = np.array((data[:,9], data[:,13],data[:,17])).transpose()\n",
    "\n",
    "Fs = tf.constant(Fs, dtype = tf.float32)\n",
    "Ps = tf.constant(Ps, dtype = tf.float32)\n",
    "\n",
    "# Plot data\n",
    "plt.plot(Fs[:,0], Fs[:,0], linestyle='--', label='$F_{11}$')\n",
    "plt.plot(Fs[:,0], Fs[:,1], linestyle='--', label='$F_{22}$')\n",
    "plt.xlabel('$F_{11}$')\n",
    "plt.ylabel('$F_{ij}$')\n",
    "plt.legend()\n",
    "plt.show()\n",
    "\n",
    "plt.plot(Fs[:,0], Ps[:,0], linestyle='--', label='$P_{11}$')\n",
    "plt.plot(Fs[:,0], Ps[:,1], linestyle='--', label='$P_{22}$')\n",
    "plt.xlabel('$F_{11}$')\n",
    "plt.ylabel('$P_{ij}$')\n",
    "plt.legend()\n",
    "plt.show()"
   ]
  },
  {
   "cell_type": "markdown",
   "metadata": {},
   "source": [
    "### Define model"
   ]
  },
  {
   "cell_type": "code",
   "execution_count": null,
   "metadata": {},
   "outputs": [],
   "source": [
    "# Create and compile TensorFlow model\n",
    "\n",
    "model1 = tf.keras.Sequential([\n",
    "    tf.keras.layers.Dense(16, 'softplus', input_shape=[3]),\n",
    "    tf.keras.layers.Dense(16, 'softplus'),\n",
    "    tf.keras.layers.Dense(16, 'softplus'),\n",
    "    tf.keras.layers.Dense(3)\n",
    "    ])\n",
    "\n",
    "         \n",
    "model1.summary()\n",
    "\n",
    "model1.compile('adam', 'mse')\n",
    "\n",
    "# Evaluation for randomly initialized weights and biases\n",
    "model1.evaluate(Fs, Ps)"
   ]
  },
  {
   "cell_type": "markdown",
   "metadata": {},
   "source": [
    "### Calibrate and evaluate model"
   ]
  },
  {
   "cell_type": "code",
   "execution_count": null,
   "metadata": {},
   "outputs": [],
   "source": [
    "# Calibrate model\n",
    "h= model1.fit(Fs, Ps, epochs=100, verbose=2)\n",
    "\n",
    "# Evaluate and plot calibrated model\n",
    "Ps_model = model1.predict(Fs)\n",
    "\n",
    "plt.plot(Fs[:,0], Ps[:,0], linestyle='--', label='$P_{11}$ data')\n",
    "plt.plot(Fs[:,0], Ps[:,1], linestyle='--', label='$P_{22}$ data')\n",
    "plt.plot(Fs[:,0], Ps_model[:,0], label='$P_{11}$ model')\n",
    "plt.plot(Fs[:,0], Ps_model[:,1], label='$P_{22}$ model')\n",
    "plt.xlabel('$F_{11}$')\n",
    "plt.ylabel('$P_{ij}$')\n",
    "plt.legend()\n",
    "plt.show()"
   ]
  },
  {
   "cell_type": "markdown",
   "metadata": {},
   "source": [
    "## 2. Physics-informed neural network"
   ]
  },
  {
   "cell_type": "markdown",
   "metadata": {},
   "source": [
    "### Define model"
   ]
  },
  {
   "cell_type": "code",
   "execution_count": null,
   "metadata": {},
   "outputs": [],
   "source": [
    "# Create potential based constitutive model\n",
    "\n",
    "def WP(**kwargs):\n",
    "    Fs = tf.keras.Input(shape=[3])\n",
    "    Ps = _F_to_P(**kwargs)(Fs)\n",
    "    model = tf.keras.Model(Fs, Ps)\n",
    "    model.compile('adam', 'mse')\n",
    "    return model\n",
    "\n",
    "\n",
    "# Internal layer, evaluation of PK1 stress with TF GradientTape\n",
    "class _F_to_P(tf.keras.layers.Layer):\n",
    "    \n",
    "    def __init__(self, **kwargs):\n",
    "        super(_F_to_P, self).__init__()\n",
    "        self.W = _F_to_W(**kwargs)\n",
    "        \n",
    "    def call(self, Fs):\n",
    "        with tf.GradientTape() as tape:\n",
    "            tape.watch(Fs)\n",
    "            Ws = self.W(Fs)\n",
    "        Ps = tape.gradient(Ws, Fs)\n",
    "        return Ps\n",
    "    \n",
    "    \n",
    "# Trainable layers for potential    \n",
    "class _F_to_W(tf.keras.layers.Layer):\n",
    "    \n",
    "    def __init__(self, ns = [16, 16, 16]):\n",
    "        super(_F_to_W, self).__init__()\n",
    "        self.l0 = tf.keras.layers.Dense(ns[0], 'softplus', use_bias=True)\n",
    "        self.ls = [tf.keras.layers.Dense(n, 'softplus', \\\n",
    "                        use_bias=True, \\\n",
    "                        kernel_constraint=tf.keras.constraints.non_neg()) \\\n",
    "                   for n in ns[1:]]\n",
    "        self.ls.append(tf.keras.layers.Dense(1, \\\n",
    "                        use_bias=True, \\\n",
    "                        kernel_constraint=tf.keras.constraints.non_neg()))\n",
    "\n",
    "        \n",
    "    def W_core(self, Fs):\n",
    "        \n",
    "        x = self.l0(Fs)\n",
    "            \n",
    "        for l in self.ls:\n",
    "            x = l(x)\n",
    "                \n",
    "        return x\n",
    "        \n",
    "    def call(self, Fs):\n",
    "        return self.W_core(Fs)\n",
    "    \n",
    "    \n",
    "model2=WP()\n",
    "\n",
    "model2.summary()"
   ]
  },
  {
   "cell_type": "markdown",
   "metadata": {},
   "source": [
    "### Calibrate and evaluate model"
   ]
  },
  {
   "cell_type": "code",
   "execution_count": null,
   "metadata": {},
   "outputs": [],
   "source": [
    "# Calibrate model\n",
    "h= model2.fit(Fs, Ps, epochs=100, verbose=2)\n",
    "\n",
    "# Evaluate and plot calibrated model\n",
    "Ps_model_2 = model2.predict(Fs)\n",
    "\n",
    "plt.plot(Fs[:,0], Ps[:,0], linestyle='--', label='$P_{11}$ data')\n",
    "plt.plot(Fs[:,0], Ps[:,1], linestyle='--', label='$P_{22}$ data')\n",
    "plt.plot(Fs[:,0], Ps_model_2[:,0], label='$P_{11}$ model')\n",
    "plt.plot(Fs[:,0], Ps_model_2[:,1], label='$P_{22}$ model')\n",
    "plt.xlabel('$F_{11}$')\n",
    "plt.ylabel('$P_{ij}$')\n",
    "plt.legend()\n",
    "plt.show()"
   ]
  }
 ],
 "metadata": {
  "kernelspec": {
   "display_name": "Python 3",
   "language": "python",
   "name": "python3"
  },
  "language_info": {
   "codemirror_mode": {
    "name": "ipython",
    "version": 3
   },
   "file_extension": ".py",
   "mimetype": "text/x-python",
   "name": "python",
   "nbconvert_exporter": "python",
   "pygments_lexer": "ipython3",
   "version": "3.7.10"
  }
 },
 "nbformat": 4,
 "nbformat_minor": 4
}
