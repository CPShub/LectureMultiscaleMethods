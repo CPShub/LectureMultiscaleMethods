{
 "cells": [
  {
   "cell_type": "markdown",
   "metadata": {},
   "source": [
    "# Kinetics Tasks"
   ]
  },
  {
   "cell_type": "markdown",
   "metadata": {},
   "source": [
    "1. Calculate the relation between Cauchy, First and Second Piola-Kirchhoff Stress for the deformation gradient\n",
    "\n",
    "\\begin{equation}\n",
    "\\boldsymbol{F}=\n",
    " \\begin{bmatrix}\n",
    "   \\lambda_1 & 0 & 0 \\\\\n",
    "   0 & \\lambda_2 & 0 \\\\\n",
    "   0 & 0 & \\lambda_3\n",
    "   \\end{bmatrix}\n",
    "   \\end{equation}\n",
    "\n"
   ]
  },
  {
   "cell_type": "markdown",
   "metadata": {},
   "source": [
    "2. Give an example of a purely deviatoric and a purely hydrostatic state of stress. Visualize it in the principal stress coordinates."
   ]
  },
  {
   "cell_type": "markdown",
   "metadata": {},
   "source": [
    "3. Show that the second invariant of the stress tensor $\\boldsymbol{\\sigma}$ with eigenvalues $\\sigma_i$\n",
    "\n",
    "\\begin{equation}\n",
    "I_2\\left(\\boldsymbol{\\sigma}\\right)=\\sigma_1\\sigma_2+\\sigma_1\\sigma_3+\\sigma_2\\sigma_3\n",
    "\\end{equation}\n",
    "\n",
    "   is a measure for the deviatoric part of the stress, and contains no volumetric parts. (Hint: $\\sigma_1=\\sigma_1-p+p=\\sigma_1^{dev}+p$)\n",
    "   \n",
    "   How is it related to the von Mises equivalent stress?"
   ]
  },
  {
   "cell_type": "markdown",
   "metadata": {},
   "source": [
    "4. Calculate the stress for uniaxial and equibiaxial deformation for an incompressible Neo-Hooke model."
   ]
  }
 ],
 "metadata": {
  "kernelspec": {
   "display_name": "Python 3",
   "language": "python",
   "name": "python3"
  },
  "language_info": {
   "codemirror_mode": {
    "name": "ipython",
    "version": 3
   },
   "file_extension": ".py",
   "mimetype": "text/x-python",
   "name": "python",
   "nbconvert_exporter": "python",
   "pygments_lexer": "ipython3",
   "version": "3.7.6"
  }
 },
 "nbformat": 4,
 "nbformat_minor": 4
}
