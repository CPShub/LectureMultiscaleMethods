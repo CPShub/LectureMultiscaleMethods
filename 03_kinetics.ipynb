{
 "cells": [
  {
   "cell_type": "markdown",
   "metadata": {},
   "source": [
    "# Kinetics - stress tensors and constitutive equations\n",
    "\n",
    "Created by: Dominik Klein\n",
    "\n",
    "Contact: dominik.klein@stud.tu-darmstadt.de\n",
    "\n",
    "Date of creation: 2020-04-28\n",
    "\n",
    "Last update: 2020-05-14"
   ]
  },
  {
   "cell_type": "markdown",
   "metadata": {},
   "source": [
    "**Information:**\n",
    "Run the following cell to define all commands for this notebook. "
   ]
  },
  {
   "cell_type": "code",
   "execution_count": null,
   "metadata": {},
   "outputs": [],
   "source": [
    "%run -i ./code/03_kinetics/main.py"
   ]
  },
  {
   "cell_type": "markdown",
   "metadata": {},
   "source": [
    "## Description\n",
    "\n",
    "In this notebook, stress tensors for different configurations and a deviatoric-volumetric split for stress tensors is presented. Hyperelastic strain energy functions and cubic anisotropy provide an insight in constitutive modeling.\n",
    "\n",
    "This notebook provides interactive content, which can be activated in the cell below. By default, the notebook content is set to static."
   ]
  },
  {
   "cell_type": "markdown",
   "metadata": {},
   "source": [
    "**Static:**\n",
    "Run the following cell for static content (default). "
   ]
  },
  {
   "cell_type": "code",
   "execution_count": null,
   "metadata": {},
   "outputs": [],
   "source": [
    "%matplotlib notebook\n",
    "%matplotlib inline \n",
    "notebook_static()"
   ]
  },
  {
   "cell_type": "markdown",
   "metadata": {},
   "source": [
    "**Interactive:**\n",
    "Run the following cell for interactive content. "
   ]
  },
  {
   "cell_type": "code",
   "execution_count": null,
   "metadata": {},
   "outputs": [],
   "source": [
    "%matplotlib notebook\n",
    "notebook_interactive()"
   ]
  },
  {
   "cell_type": "markdown",
   "metadata": {},
   "source": [
    "# Stress Tensors"
   ]
  },
  {
   "cell_type": "markdown",
   "metadata": {},
   "source": [
    "The stress tensor defines the state of stress at a given point. It is a tensor-valued quantity of order two.\n",
    "The Cauchy stress tensor can be represented by the matrix\n",
    "\n",
    "\\begin{equation}\n",
    "\\boldsymbol{\\sigma}=\n",
    " \\begin{bmatrix}\n",
    "   \\sigma_{11} & \\sigma_{12} & \\sigma_{13} \\\\\n",
    "   \\sigma_{21} & \\sigma_{22} & \\sigma_{23} \\\\\n",
    "   \\sigma_{31} & \\sigma_{32} & \\sigma_{33}\n",
    "   \\end{bmatrix}\n",
    "   \\end{equation}\n",
    "   \n",
    "The main diagonal elements correspond to the normal stresses, the off-diagonal elements correspond to the shear stresses.\n",
    "   \n",
    "<img src=\"files/code/03_kinetics/stress_tensor_components.JPG\" alt=\"Drawing\" style=\"width: 300px;\"/>\n",
    "\n",
    "When we cut a body by a plane surface with normal vector $\\boldsymbol{n}$, we get surface traction vectors $\\boldsymbol{t}$ on that plane. Cauchy's stress theorem connects normal vector and resulting traction vector at a point $\\boldsymbol{x}$ by\n",
    "\n",
    "\\begin{equation}\n",
    "\\boldsymbol{t}\\left(\\boldsymbol{x},\\;\\boldsymbol{n}\\right)=\\boldsymbol{\\sigma}\\left(\\boldsymbol{x},\\right)\\boldsymbol{n}\n",
    "\\end{equation}\n",
    "\n",
    "<img src=\"files/code/03_kinetics/cauchy_theorem.JPG\" alt=\"Drawing\" style=\"width: 250px;\"/>\n",
    "\n",
    "Stress tensors can be formulated with respect to different configurations, e.g., the undeformed reference configuration or the deformed current configuration. The Cauchy stress relates to the deformed configuration, the First Piola-Kirchhoff stress to the undeformed configuration. With the balance of angular momentum it can be shown that the Cauchy stress tensor is always symmetric. The First Piola Kirchhoff stress tensor is in general not symmetric.\n",
    "An adaption of the latter tensor leads to the Second Piola Kirchhoff stress tensor, which relates to no physical configuration, but is always symmetric.\n",
    "\n",
    "The stress tensors are related by\n",
    "\n",
    "\\begin{equation}\n",
    "\\begin{aligned}\n",
    "\\text{Cauchy}&\\;\\;\\;\\boldsymbol{\\sigma}\n",
    "\\\\\n",
    "\\text{First Piola-Kirchhoff}&\\;\\;\\;\\boldsymbol{P}=J\\boldsymbol{\\sigma}\\boldsymbol{F}^{-T}\n",
    "\\\\\n",
    "\\text{Second Piola-Kirchhoff}&\\;\\;\\;\\boldsymbol{S}=\\boldsymbol{F}^{-1}\\boldsymbol{P}\n",
    "\\end{aligned}\n",
    "\\end{equation}\n",
    "\n",
    "The selection of the stress tensor depends on the desired application. For experimental tensile tests it may be more comfortable to calculate the First Piola Kirchhoff stress, while in computational engineering the symmetric Second Piola Kirchhoff stress is favored.\n",
    "\n",
    "**Constitutive models**\n",
    "\n",
    "Regarding purely mechanical processes, stress is caused by deformation. The connection between deformation and resulting stress is given by constitutive equations. The most simple constitutive equation for finite deformations is given by the St. Venant-Kirchhoff stress\n",
    "\n",
    "\\begin{equation}\n",
    "\\boldsymbol{S}=2\\cdot\\mu\\cdot\\boldsymbol{E}+\\lambda\\cdot\\text{tr}\\left(\\boldsymbol{E}\\right)\\cdot\\boldsymbol{I}\n",
    "\\end{equation}\n",
    "\n",
    "which is an extension for finite deformations of the linear elastic Hooke's law for small deformations.\n",
    "\n",
    "In the following example, the St. Venant-Kirchhoff stress for a given deformation gradient is evaluated. When the notebook is set to \"interactive\", the tensile and shear components in the (12)-plane can be variated, as well as the tensile component in the third direction. The shear components in the third direction are set to zero. \n",
    "\n",
    "The three introduced stress tensors are evaluated, as well as the eigenvalues and eigendirections of the Second Piola-Kirchhoff and the Cauchy stress. For both stress tensors, the eigenvectors in the (12)-plane are plotted. As they refer to different configurations, the directions of the eigenvectors are also different."
   ]
  },
  {
   "cell_type": "code",
   "execution_count": null,
   "metadata": {
    "scrolled": false
   },
   "outputs": [],
   "source": [
    "stress_tensors()"
   ]
  },
  {
   "cell_type": "markdown",
   "metadata": {},
   "source": [
    "For small deformations, the stress tensors coincide. For large deformations, the differences become quite significant. \n",
    "\n",
    "Below, some experimental rubber data from Treloar (1944) is shown.\n",
    "Especially for materials like rubber, which can experience large deformations, it is important to specify the choosen stress tensor."
   ]
  },
  {
   "cell_type": "code",
   "execution_count": null,
   "metadata": {},
   "outputs": [],
   "source": [
    "stress_tensors_treloar()"
   ]
  },
  {
   "cell_type": "markdown",
   "metadata": {},
   "source": [
    "# Deviatoric and Hydrostatic Stress"
   ]
  },
  {
   "cell_type": "markdown",
   "metadata": {},
   "source": [
    "A stress tensor $\\boldsymbol{\\sigma}$ can be additive composed into a deviatoric part $\\boldsymbol{\\sigma}^{dev}$ and a hydrostatic part $\\boldsymbol{\\sigma}^{hyd}$. \n",
    "\n",
    "\\begin{equation}\n",
    "\\boldsymbol{\\sigma}=\\boldsymbol{\\sigma}^{dev}+\\boldsymbol{\\sigma}^{hyd}\n",
    "\\end{equation}\n",
    "\n",
    "with\n",
    "\n",
    "\\begin{equation}\n",
    "\\begin{aligned}\n",
    "\\boldsymbol{\\sigma}^{hyd}&=p\\cdot\\boldsymbol{I}\n",
    "\\\\\n",
    "\\boldsymbol{\\sigma}^{dev}&=\\boldsymbol{\\sigma}-p\\cdot\\boldsymbol{I}\n",
    "\\end{aligned}\n",
    "\\end{equation}\n",
    "\n",
    "with the hydrostatic pressure $p$ and the second order unit tensor $\\boldsymbol{I}$. As it can be seen from the definition of the hydrostatic pressure $p$  \n",
    "\n",
    "\\begin{equation}\n",
    "p=\\text{trace}\\left(\\boldsymbol{\\sigma}\\right)\\cdot\\frac{1}{3}=\\left(\\sigma_1+\\sigma_2+\\sigma_3\\right)\\cdot\\frac{1}{3}\n",
    "\\end{equation}\n",
    "\n",
    "the trace of the deviatoric part is zero.\n",
    "\n",
    "This decomposition is applicated in e.g. material modeling. Experimental investigations regarding plasticity and fracture often show an predominant influence of the deviatoric deformation, with practically no influence of the hydrostatic pressure.\n",
    "\n",
    "\n",
    "In the following example the deviatoric decomposition for an arbitrary Cauchy stress tensor is demonstrated. The result is plotted in the principal stress system. The hydrostatic part runs along the (1,1,1)-axis. Orthogonal to that axis lies the so called Pi-plane. Since it is orthogonal to the hydrostatic axis, the stresses that lie within the Pi-plane exhibit no hydrostatic part. The deviatoric part of the stress lies within the Pi-plane."
   ]
  },
  {
   "cell_type": "code",
   "execution_count": null,
   "metadata": {
    "scrolled": false
   },
   "outputs": [],
   "source": [
    "dev_hyd_stress()"
   ]
  },
  {
   "cell_type": "markdown",
   "metadata": {},
   "source": [
    "# Hyperelasticity"
   ]
  },
  {
   "cell_type": "markdown",
   "metadata": {},
   "source": [
    "A material is called to behave elastic when there is no dissipation of energy during arbitrary deformation processes, which is equivalent to path independence of the deformation. A direct consequence of that is the independence of the deformation rate.\n",
    "\n",
    "The fourth order elasticity tensor $\\mathbb{C}$ gives a linear mapping between the second order stress tensor $\\boldsymbol{S}$ and the second order strain tensor $\\boldsymbol{E}$.\n",
    "\n",
    "\\begin{equation}\n",
    "\\boldsymbol{S}=\\mathbb{C}:\\boldsymbol{E}\n",
    "\\end{equation}\n",
    "\n",
    "In order to produce a path independent stress tensor, the elasticity tensor must possess the so called major symmetry\n",
    "\n",
    "\\begin{equation}\n",
    "C_{ijkl}=C_{klij}\n",
    "\\end{equation}\n",
    "\n",
    "which is often referred to as the definition of hyperelasticity. As the strain tensors introduced in this lecture are also symmetric, the elasticity tensor also possesses the so called minor symmetries\n",
    "\n",
    "\\begin{equation}\n",
    "C_{ijkl}=C_{jikl}=C_{ijlk}\n",
    "\\end{equation}\n",
    "\n",
    "Without symmetries, the elasticity tensor has 81 independent components. After consideration of the symmetries, only 21 independent components remain.\n",
    "\n",
    "\n",
    "The energy stored in hyperelastic materials can be expressed with a energy function $W$ such that\n",
    "\n",
    "\\begin{equation}\n",
    "\\boldsymbol{S}=\\frac{\\partial W}{\\partial \\boldsymbol{E}}\n",
    "\\end{equation}\n",
    "\n",
    "which must fulfill several physical conditions: zero strain must produce zero stress and zero stored energy, while an arbitrary strain unequal zero must result in a stored energy greater than zero. Furthermore, for small deformations it must be consistent with linear elasticity.\n",
    "\n",
    "Strain energy functions are often expressed in terms of principal stretches or invariants of strain tensors. Thereby the model is independent of the observer, which is another important physical condition.\n",
    "\n",
    "Some simple forms of hyperelastic strain energy functions are the Neo-Hooke model\n",
    "\n",
    "\\begin{equation}\n",
    "\\begin{aligned}\n",
    "W&=c_1\\left(I_1-3\\right)\n",
    "\\\\\n",
    "&=c_1\\left(\\lambda_1^2+\\lambda_2^2+\\lambda_3^2-3\\right)\n",
    "\\end{aligned}\n",
    "\\end{equation}\n",
    "\n",
    "the Mooney-Rivlin model\n",
    "\n",
    "\\begin{equation}\n",
    "\\begin{aligned}\n",
    "W&=c_1\\left(I_1-3\\right)+c_2\\left(I_2-3\\right)\n",
    "\\\\\n",
    "&=c_1\\left(\\lambda_1^2+\\lambda_2^2+\\lambda_3^2-3\\right)+c_2\\left(\\lambda_1^2\\lambda_2^2+\\lambda_1^2\\lambda_3^2+\\lambda_2^2\\lambda_3^2-3\\right)\n",
    "\\end{aligned}\n",
    "\\end{equation}\n",
    "\n",
    "and the Ogden model\n",
    "\n",
    "\\begin{equation}\n",
    "W=\\sum_{p=1}^{N}\\frac{\\mu_p}{\\alpha_p}\\left(\\lambda_1^{\\alpha_p}+\\lambda_2^{\\alpha_p}+\\lambda_3^{\\alpha_p}-3\\right)\n",
    "\\end{equation}\n",
    "\n",
    "The Ogden model is a polynomial fit with an arbitrary number $N$ of terms, often $N=3$ is the limit in practical usage. While the Ogden model is purely phenomenological, the Neo-Hooke model and the Mooney-Rivlin model can be deduced from physical considerations regarding the micro structure of rubber.\n",
    "\n",
    "\n",
    "Hyperelastic models are often used to describe the elastic behavior of rubber, which is nearly incompressible. With the incompressibility condition, the principal stresses can be expressed with\n",
    "\n",
    "\\begin{equation}\n",
    "\\sigma_a=\\lambda_a\\frac{\\partial W}{\\partial \\lambda_a}-p,\\;\\;a=1,2,3\n",
    "\\end{equation}\n",
    "\n",
    "where $p$ is a Lagrangian multiplier. The scalar $p$ must be determined from the equilibrium equations, boundary conditions and incompressibilbity condition (see task 4).\n",
    "\n",
    "\n",
    "In the following example, different hyperelastic strain energy functions are adapted to experimental rubber data [Treloar (1944), Steinmann (2012)]. The models were fitted to uniaxial tension, equibiaxial tension and pure shear data.\n",
    "\n",
    "The pure shear deformation is applied in the form\n",
    "\n",
    "\n",
    "\\begin{equation}\n",
    "\\boldsymbol{F}=\n",
    " \\begin{bmatrix}\n",
    "   \\lambda & 0 & 0 \\\\\n",
    "   0 & 1 &0 \\\\\n",
    "   0 & 0& \\lambda^{-1}\n",
    "   \\end{bmatrix}\n",
    "   \\end{equation}"
   ]
  },
  {
   "cell_type": "code",
   "execution_count": null,
   "metadata": {
    "scrolled": false
   },
   "outputs": [],
   "source": [
    "treloar_data_fit()"
   ]
  },
  {
   "cell_type": "markdown",
   "metadata": {},
   "source": [
    "# Material Symmetry"
   ]
  },
  {
   "cell_type": "markdown",
   "metadata": {},
   "source": [
    "Most natural and engineering materials have (several) planes and axes of symmetry, which the constitutive models must represent. This additional conditions reduce the number of independent components in the elasticity tensor. The symmetry of a material can be described by a symmetry group ${g}_R$ of orthogonal (rotation) tensors, which contains all symmetries of the material [Haupt (2000)].\n",
    "\n",
    "For all orthogonal tensors $\\boldsymbol{Q}$ in the symmetry group ${g}_R$ of a given material, the strain energy $e$ for an arbitrary deformation $\\boldsymbol{E}$ must hold\n",
    "\n",
    "\\begin{equation}\n",
    "\\forall \\boldsymbol{E}: \\;\\boldsymbol{Q} \\in {g}_R \\;\\iff\\; e\\left(\\boldsymbol{Q}\\boldsymbol{E}\\boldsymbol{Q}^T\\right)=e\\left(\\boldsymbol{E}\\right)\n",
    "\\end{equation}\n",
    "\n",
    "which means that the stored energy remains the same if the applied deformation is rotated by an element of the symmetry group. This can also be formulated as a requirement to the elasticity tensor\n",
    "\n",
    "\\begin{equation}\n",
    "\\forall \\boldsymbol{Q} \\in {g}_R:\\;\\mathbb{C}=\\boldsymbol{Q}\\star\\mathbb{C}\n",
    "\\end{equation}\n",
    "\n",
    "with the Rayleigh-product $\\boldsymbol{Q}\\star\\mathbb{C}$. The Rayleigh-product applies the rotation of the orthogonal tensor $\\boldsymbol{Q}$ to all basis vectors of the fourth order tensor $\\mathbb{C}$. When all basis vectors of the elasticity tensor are rotated by an element of the material's symmetry group, it must equal the unrotated elasticity tensor.\n",
    "\n",
    "**Cubic Anisotropy**\n",
    "\n",
    "One example for anisotropic material behavior is cubic anisotropy, e.g. in the metamaterial shown below. \n",
    "\n",
    "<img src=\"files/code/03_kinetics/RUC_cubic.JPG\" alt=\"Drawing\" style=\"width: 200px;\"/>\n",
    "\n",
    "The symmetry group of an cubic anisotropic material contains of centrosymmetry (pointsymmetry with respect to it's center) and a rotation of 90° around three orthogonal vectors $\\left(\\boldsymbol{i},\\boldsymbol{j},\\boldsymbol{k}\\right)$:\n",
    "\n",
    "\\begin{equation}\n",
    "{g}_R=\\left(-\\boldsymbol{1},\\;\\boldsymbol{Q}_{\\boldsymbol{i}}^{\\frac{\\pi}{2}},\\;\\boldsymbol{Q}_{\\boldsymbol{j}}^{\\frac{\\pi}{2}},\\;\\boldsymbol{Q}_{\\boldsymbol{k}}^{\\frac{\\pi}{2}}\\right)\n",
    "\\end{equation}\n",
    "\n",
    "which results in the elasticity tensor\n",
    "\n",
    "\\begin{equation}\n",
    "\\mathbb{C}=\n",
    " \\begin{bmatrix}\n",
    "C_{11} & C_{12} & C_{12} & 0 & 0 & 0 \\\\\n",
    "& C_{11} & C_{12} & 0 & 0 & 0 \\\\\n",
    " &  & C_{11} & 0 & 0 & 0 \\\\\n",
    " &  &  & C_{44} & 0 &  0 \\\\\n",
    " & \\text{sym.} &  & & C_{44} & 0 \\\\\n",
    " &  &  &  & & C_{44}\n",
    "   \\end{bmatrix}\n",
    "   \\end{equation}\n",
    "\n",
    "with three independent components. The unrotated elasticity tensor $\\mathbb{C}_0$ and the three rotated elasticity tensors\n",
    "\n",
    "\\begin{equation}\n",
    "\\mathbb{C}_i^{\\frac{\\pi}{2}}=\\boldsymbol{Q}_i^{\\frac{\\pi}{2}}\\star\\mathbb{C}\n",
    "\\end{equation}\n",
    "\n",
    "are shown below in the Voigt notation, where the three orthogonal vectors $\\left(\\boldsymbol{i},\\boldsymbol{j},\\boldsymbol{k}\\right)$ are aligned with the basis system of the elasticity tensor. The elasticity tensor must hold\n",
    "\n",
    "\\begin{equation}\n",
    "\\mathbb{C}_0=\\mathbb{C}_i^{\\frac{\\pi}{2}}=\\mathbb{C}_j^{\\frac{\\pi}{2}}=\\mathbb{C}_k^{\\frac{\\pi}{2}}\n",
    "\\end{equation}\n",
    "\n",
    "A componentwise comparison of the tensors show which components depend on each other, and which components must be zero.\n",
    "\n",
    "\\begin{equation}\n",
    "\\begin{aligned}\n",
    "\\mathbb{C}_0&=\n",
    "    \\begin{bmatrix}\n",
    "    C_{11} & C_{12} & C_{13} &  C_{14} &  C_{15} &  C_{16} \\\\\n",
    "    & C_{22} & C_{23} &  C_{24} &  C_{25} &  C_{26} \\\\\n",
    "     &  & C_{33} &  C_{34} &  C_{35} &  C_{36} \\\\\n",
    "     &  &  & C_{44} &  C_{45} &   C_{46} \\\\\n",
    "     & \\text{sym.} &  & & C_{55} &  C_{56} \\\\\n",
    "     &  &  &  & & C_{66}\n",
    "       \\end{bmatrix}\n",
    "       \\\\\n",
    "       \\mathbb{C}_i^{\\frac{\\pi}{2}}&=\n",
    "    \\begin{bmatrix}\n",
    "    C_{11} & C_{13} & C_{12} &  C_{15} &  -C_{14} &  -C_{16} \\\\\n",
    "    & C_{33} & C_{23} &  C_{35} &  -C_{34} &  -C_{36} \\\\\n",
    "     &  & C_{22} &  C_{25} &  -C_{24} &  -C_{26} \\\\\n",
    "     &  &  & C_{55} &  -C_{45} &   -C_{56} \\\\\n",
    "     & \\text{sym.} &  & & C_{44} &  C_{46} \\\\\n",
    "     &  &  &  & & C_{66}\n",
    "       \\end{bmatrix}\n",
    "           \\\\\n",
    "       \\mathbb{C}_j^{\\frac{\\pi}{2}}&=\n",
    "    \\begin{bmatrix}\n",
    "    C_{33} & C_{23} & C_{13} &  -C_{36} &  -C_{35} &   C_{34} \\\\\n",
    "    & C_{22} & C_{12} & -C_{26} &  -C_{25} &   C_{24} \\\\\n",
    "     &  & C_{11} & -C_{16} &  -C_{15} &   C_{14} \\\\\n",
    "     &  &  & C_{66} &   C_{56} &   -C_{46} \\\\\n",
    "     & \\text{sym.} &  & & C_{55} & -C_{45} \\\\\n",
    "     &  &  &  & & C_{44}\n",
    "       \\end{bmatrix}\n",
    "                 \\\\\n",
    "       \\mathbb{C}_k^{\\frac{\\pi}{2}}&=\n",
    "    \\begin{bmatrix}\n",
    "    C_{22} & C_{12} & C_{23} &  -C_{24} &   C_{26} &  -C_{25} \\\\\n",
    "    & C_{11} & C_{13} & -C_{14} &   C_{16} &  -C_{15} \\\\\n",
    "     &  & C_{33} & -C_{34} &   C_{36} &  -C_{35} \\\\\n",
    "     &  &  & C_{44} &  -C_{46} &    C_{45} \\\\\n",
    "     & \\text{sym.} &  & & C_{66} & -C_{56} \\\\\n",
    "     &  &  &  & & C_{55}\n",
    "       \\end{bmatrix}\n",
    "\\end{aligned}\n",
    "\\end{equation}\n",
    "\n",
    "\n",
    "A graphical representation of anisotropic material behavior is presented in Böhlke (2001). The stiffness of anisotropic materials under uniaxial tension depends on the direction in which the tension is applied. An evaluation of the elasticity tensor gives the stiffness under uniaxial tension - the Young's modulus - in each spatial direction.\n",
    "\n",
    "In the figure below, the Young's modulus for cubibc anisotropy dependent on the spatial direction is shown."
   ]
  },
  {
   "cell_type": "code",
   "execution_count": null,
   "metadata": {},
   "outputs": [],
   "source": [
    "cubic_anisotropy_visualization()"
   ]
  },
  {
   "cell_type": "markdown",
   "metadata": {},
   "source": [
    "# Further Information"
   ]
  },
  {
   "cell_type": "markdown",
   "metadata": {},
   "source": [
    "Holzapfel, G. (2000). Nonlinear solid mechanics: a continuum approach for engineering.\n",
    "\n",
    "Treloar, L.R.G. (1944). Stress-strain data for vulcanised rubber under various types of deformation.\n",
    "\n",
    "Treloar, L.R.G. (1975). The Physics of Rubber Elasticity.\n",
    "\n",
    "Steinmann, P. et al. (2012). Hyperelastic models for rubber-like materials: consistent tangent operators and suitability for Treloar's data.\n",
    "\n",
    "Böhlke, T. et al. (2001). Graphical Representation of the Generalized Hooke's Law.\n",
    "\n",
    "Haupt, P. (2000). Continuum Mechanics and Theory of Materials."
   ]
  },
  {
   "cell_type": "code",
   "execution_count": null,
   "metadata": {},
   "outputs": [],
   "source": [
    "# Magic functions for interactive graphs\n",
    "def interactive_plot(x):\n",
    "    if x:\n",
    "        %matplotlib notebook\n",
    "    else:\n",
    "        %matplotlib inline"
   ]
  }
 ],
 "metadata": {
  "kernelspec": {
   "display_name": "Python 3",
   "language": "python",
   "name": "python3"
  },
  "language_info": {
   "codemirror_mode": {
    "name": "ipython",
    "version": 3
   },
   "file_extension": ".py",
   "mimetype": "text/x-python",
   "name": "python",
   "nbconvert_exporter": "python",
   "pygments_lexer": "ipython3",
   "version": "3.7.6"
  }
 },
 "nbformat": 4,
 "nbformat_minor": 4
}
