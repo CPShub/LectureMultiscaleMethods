{
 "cells": [
  {
   "cell_type": "code",
   "execution_count": 44,
   "metadata": {},
   "outputs": [
    {
     "name": "stdout",
     "output_type": "stream",
     "text": [
      "The autoreload extension is already loaded. To reload it, use:\n",
      "  %reload_ext autoreload\n"
     ]
    },
    {
     "data": {
      "application/javascript": [
       "Jupyter.notebook.execute_cells([3,4,5])"
      ],
      "text/plain": [
       "<IPython.core.display.Javascript object>"
      ]
     },
     "metadata": {},
     "output_type": "display_data"
    }
   ],
   "source": [
    "######################################\n",
    "# Run First Cell for Initialization  #\n",
    "#                                    #\n",
    "#           SHIFT + ENTER            #\n",
    "######################################\n",
    "\n",
    "# Initialize notebook\n",
    "%run -i ./code/03_kinetics/initialize\n",
    "# Load functions in external python scripts\n",
    "%load_ext autoreload\n",
    "%autoreload 1\n",
    "%aimport refresh\n",
    "\n",
    "display(Javascript(\"Jupyter.notebook.execute_cells([3,4,5])\"))"
   ]
  },
  {
   "cell_type": "markdown",
   "metadata": {},
   "source": [
    "# Stress Tensors"
   ]
  },
  {
   "cell_type": "markdown",
   "metadata": {},
   "source": [
    "St. Venant-Kirchhoff stress (for the Second Piola-Kirchhoff stress tensor): \n",
    "\\begin{equation}\n",
    "\\boldsymbol{S}=2\\cdot\\mu\\cdot\\boldsymbol{E}+\\lambda\\cdot\\text{tr}\\left(\\boldsymbol{E}\\right)\\cdot\\boldsymbol{I}\n",
    "\\end{equation}\n",
    "\n",
    "First Piola-Kirchhoff stress tensor:\n",
    "\\begin{equation}\n",
    "\\boldsymbol{P}=\\boldsymbol{F}\\boldsymbol{S}\n",
    "\\end{equation}\n",
    "\n",
    "Cauchy stress tensor:\n",
    "\\\\begin{equation}\n",
    "\\boldsymbol{\\sigma}=J^{-1}\\cdot\\boldsymbol{F}\\boldsymbol{S}\\boldsymbol{F}^T\n",
    "\\end{equation}"
   ]
  },
  {
   "cell_type": "code",
   "execution_count": 48,
   "metadata": {},
   "outputs": [
    {
     "data": {
      "application/vnd.jupyter.widget-view+json": {
       "model_id": "a82eca7d18f64040bc773f2ac6aa1bca",
       "version_major": 2,
       "version_minor": 0
      },
      "text/plain": [
       "interactive(children=(FloatSlider(value=1.0, description='F11', max=2.0, min=0.5), FloatSlider(value=1.0, desc…"
      ]
     },
     "metadata": {},
     "output_type": "display_data"
    },
    {
     "data": {
      "application/vnd.jupyter.widget-view+json": {
       "model_id": "b35e4cba01944cf39fedac6ab5f791a8",
       "version_major": 2,
       "version_minor": 0
      },
      "text/plain": [
       "Button(description='Refresh', style=ButtonStyle())"
      ]
     },
     "metadata": {},
     "output_type": "display_data"
    },
    {
     "data": {
      "application/javascript": [
       "Jupyter.notebook.execute_cells([4])"
      ],
      "text/plain": [
       "<IPython.core.display.Javascript object>"
      ]
     },
     "metadata": {},
     "output_type": "display_data"
    },
    {
     "data": {
      "application/javascript": [
       "Jupyter.notebook.execute_cells([5])"
      ],
      "text/plain": [
       "<IPython.core.display.Javascript object>"
      ]
     },
     "metadata": {},
     "output_type": "display_data"
    },
    {
     "data": {
      "application/javascript": [
       "Jupyter.notebook.execute_cells([4])"
      ],
      "text/plain": [
       "<IPython.core.display.Javascript object>"
      ]
     },
     "metadata": {},
     "output_type": "display_data"
    },
    {
     "data": {
      "application/javascript": [
       "Jupyter.notebook.execute_cells([5])"
      ],
      "text/plain": [
       "<IPython.core.display.Javascript object>"
      ]
     },
     "metadata": {},
     "output_type": "display_data"
    },
    {
     "data": {
      "application/javascript": [
       "Jupyter.notebook.execute_cells([4])"
      ],
      "text/plain": [
       "<IPython.core.display.Javascript object>"
      ]
     },
     "metadata": {},
     "output_type": "display_data"
    },
    {
     "data": {
      "application/javascript": [
       "Jupyter.notebook.execute_cells([5])"
      ],
      "text/plain": [
       "<IPython.core.display.Javascript object>"
      ]
     },
     "metadata": {},
     "output_type": "display_data"
    },
    {
     "data": {
      "application/javascript": [
       "Jupyter.notebook.execute_cells([4])"
      ],
      "text/plain": [
       "<IPython.core.display.Javascript object>"
      ]
     },
     "metadata": {},
     "output_type": "display_data"
    },
    {
     "data": {
      "application/javascript": [
       "Jupyter.notebook.execute_cells([5])"
      ],
      "text/plain": [
       "<IPython.core.display.Javascript object>"
      ]
     },
     "metadata": {},
     "output_type": "display_data"
    }
   ],
   "source": [
    "%run -i ./code/03_kinetics/F_input"
   ]
  },
  {
   "cell_type": "code",
   "execution_count": 69,
   "metadata": {},
   "outputs": [
    {
     "name": "stdout",
     "output_type": "stream",
     "text": [
      "Cauchy Stress Tensor\n",
      "[[ 56.25222163 -15.644864  ]\n",
      " [-15.644864    26.26677333]]\n",
      "First Piola Kirchhoff Stress Tensor\n",
      "[[ 78.1202304 -28.1607552]\n",
      " [-12.960324   47.280192 ]]\n",
      "Second Piola Kirchhoff Tensor\n",
      "[[41.480032 -8.640216]\n",
      " [-8.640216 31.520128]]\n"
     ]
    }
   ],
   "source": [
    "%run -i ./code/03_kinetics/stress_tensors_eval"
   ]
  },
  {
   "cell_type": "code",
   "execution_count": 70,
   "metadata": {},
   "outputs": [
    {
     "data": {
      "image/png": "[encoded data removed]",
      "text/plain": [
       "<Figure size 432x288 with 1 Axes>"
      ]
     },
     "metadata": {
      "needs_background": "light"
     },
     "output_type": "display_data"
    },
    {
     "data": {
      "image/png": "[encoded data removed]",
      "text/plain": [
       "<Figure size 432x288 with 1 Axes>"
      ]
     },
     "metadata": {
      "needs_background": "light"
     },
     "output_type": "display_data"
    }
   ],
   "source": [
    "%matplotlib inline\n",
    "%run -i ./code/03_kinetics/stress_tensors_plot"
   ]
  },
  {
   "cell_type": "markdown",
   "metadata": {},
   "source": [
    "# Constitutive Equations"
   ]
  },
  {
   "cell_type": "markdown",
   "metadata": {},
   "source": [
    "Hyperelasticity based on thermodynamic\n",
    "\n",
    "Show different materials (wood / stell / rubber)"
   ]
  },
  {
   "cell_type": "markdown",
   "metadata": {},
   "source": [
    "# Material Symmetry"
   ]
  },
  {
   "cell_type": "markdown",
   "metadata": {},
   "source": [
    "Visualization of Anisotropy\n",
    "\n",
    "Show which components of the elasticity tensor must be equal"
   ]
  },
  {
   "cell_type": "markdown",
   "metadata": {},
   "source": [
    "# Deviatoric Stress and Equivalent Stress"
   ]
  },
  {
   "cell_type": "markdown",
   "metadata": {},
   "source": [
    "Composition in deviatoric stress and hydrostatic pressure\n",
    "\n",
    "v.Mises equivalent stress\n",
    "\n",
    "pi-plane => axis not equal?"
   ]
  },
  {
   "cell_type": "code",
   "execution_count": 53,
   "metadata": {},
   "outputs": [
    {
     "data": {
      "application/vnd.jupyter.widget-view+json": {
       "model_id": "26d0f47d941d4ba6b5d7cb10c0a5ea71",
       "version_major": 2,
       "version_minor": 0
      },
      "text/plain": [
       "interactive(children=(FloatSlider(value=1.0, description='sig_11', max=2.0), FloatSlider(value=0.0, descriptio…"
      ]
     },
     "metadata": {},
     "output_type": "display_data"
    },
    {
     "data": {
      "application/vnd.jupyter.widget-view+json": {
       "model_id": "8dfb7493ce1f4c46b7eae0fb61a3c103",
       "version_major": 2,
       "version_minor": 0
      },
      "text/plain": [
       "Button(description='Refresh', style=ButtonStyle())"
      ]
     },
     "metadata": {},
     "output_type": "display_data"
    },
    {
     "data": {
      "application/javascript": [
       "Jupyter.notebook.execute_cells([13])"
      ],
      "text/plain": [
       "<IPython.core.display.Javascript object>"
      ]
     },
     "metadata": {},
     "output_type": "display_data"
    },
    {
     "data": {
      "application/javascript": [
       "Jupyter.notebook.execute_cells([14])"
      ],
      "text/plain": [
       "<IPython.core.display.Javascript object>"
      ]
     },
     "metadata": {},
     "output_type": "display_data"
    },
    {
     "data": {
      "application/javascript": [
       "Jupyter.notebook.execute_cells([13])"
      ],
      "text/plain": [
       "<IPython.core.display.Javascript object>"
      ]
     },
     "metadata": {},
     "output_type": "display_data"
    },
    {
     "data": {
      "application/javascript": [
       "Jupyter.notebook.execute_cells([14])"
      ],
      "text/plain": [
       "<IPython.core.display.Javascript object>"
      ]
     },
     "metadata": {},
     "output_type": "display_data"
    },
    {
     "data": {
      "application/javascript": [
       "Jupyter.notebook.execute_cells([13])"
      ],
      "text/plain": [
       "<IPython.core.display.Javascript object>"
      ]
     },
     "metadata": {},
     "output_type": "display_data"
    },
    {
     "data": {
      "application/javascript": [
       "Jupyter.notebook.execute_cells([14])"
      ],
      "text/plain": [
       "<IPython.core.display.Javascript object>"
      ]
     },
     "metadata": {},
     "output_type": "display_data"
    },
    {
     "data": {
      "application/javascript": [
       "Jupyter.notebook.execute_cells([13])"
      ],
      "text/plain": [
       "<IPython.core.display.Javascript object>"
      ]
     },
     "metadata": {},
     "output_type": "display_data"
    },
    {
     "data": {
      "application/javascript": [
       "Jupyter.notebook.execute_cells([14])"
      ],
      "text/plain": [
       "<IPython.core.display.Javascript object>"
      ]
     },
     "metadata": {},
     "output_type": "display_data"
    },
    {
     "data": {
      "application/javascript": [
       "Jupyter.notebook.execute_cells([13])"
      ],
      "text/plain": [
       "<IPython.core.display.Javascript object>"
      ]
     },
     "metadata": {},
     "output_type": "display_data"
    },
    {
     "data": {
      "application/javascript": [
       "Jupyter.notebook.execute_cells([14])"
      ],
      "text/plain": [
       "<IPython.core.display.Javascript object>"
      ]
     },
     "metadata": {},
     "output_type": "display_data"
    },
    {
     "data": {
      "application/javascript": [
       "Jupyter.notebook.execute_cells([13])"
      ],
      "text/plain": [
       "<IPython.core.display.Javascript object>"
      ]
     },
     "metadata": {},
     "output_type": "display_data"
    },
    {
     "data": {
      "application/javascript": [
       "Jupyter.notebook.execute_cells([14])"
      ],
      "text/plain": [
       "<IPython.core.display.Javascript object>"
      ]
     },
     "metadata": {},
     "output_type": "display_data"
    }
   ],
   "source": [
    "%run -i ./code/03_kinetics/sig_input"
   ]
  },
  {
   "cell_type": "code",
   "execution_count": 71,
   "metadata": {},
   "outputs": [
    {
     "name": "stdout",
     "output_type": "stream",
     "text": [
      "Cauchy Stress Tensor\n",
      "[[1.  1.  1.6]\n",
      " [1.  1.6 0.2]\n",
      " [1.6 0.2 0. ]]\n",
      "Hydrostatic Pressure\n",
      "0.8666666666666667\n",
      "Deviatoric Stress Tensor\n",
      "[[ 0.13333333  1.          1.6       ]\n",
      " [ 1.          0.73333333  0.2       ]\n",
      " [ 1.6         0.2        -0.86666667]]\n"
     ]
    }
   ],
   "source": [
    "%run -i ./code/03_kinetics/sig_output"
   ]
  },
  {
   "cell_type": "code",
   "execution_count": 72,
   "metadata": {},
   "outputs": [
    {
     "data": {
      "application/javascript": [
       "/* Put everything inside the global mpl namespace */\n",
       "window.mpl = {};\n",
       "\n",
       "\n",
       "mpl.get_websocket_type = function() {\n",
       "    if (typeof(WebSocket) !== 'undefined') {\n",
       "        return WebSocket;\n",
       "    } else if (typeof(MozWebSocket) !== 'undefined') {\n",
       "        return MozWebSocket;\n",
       "    } else {\n",
       "        alert('Your browser does not have WebSocket support. ' +\n",
       "              'Please try Chrome, Safari or Firefox ≥ 6. ' +\n",
       "              'Firefox 4 and 5 are also supported but you ' +\n",
       "              'have to enable WebSockets in about:config.');\n",
       "    };\n",
       "}\n",
       "\n",
       "mpl.figure = function(figure_id, websocket, ondownload, parent_element) {\n",
       "    this.id = figure_id;\n",
       "\n",
       "    this.ws = websocket;\n",
       "\n",
       "    this.supports_binary = (this.ws.binaryType != undefined);\n",
       "\n",
       "    if (!this.supports_binary) {\n",
       "        var warnings = document.getElementById(\"mpl-warnings\");\n",
       "        if (warnings) {\n",
       "            warnings.style.display = 'block';\n",
       "            warnings.textContent = (\n",
       "                \"This browser does not support binary websocket messages. \" +\n",
       "                    \"Performance may be slow.\");\n",
       "        }\n",
       "    }\n",
       "\n",
       "    this.imageObj = new Image();\n",
       "\n",
       "    this.context = undefined;\n",
       "    this.message = undefined;\n",
       "    this.canvas = undefined;\n",
       "    this.rubberband_canvas = undefined;\n",
       "    this.rubberband_context = undefined;\n",
       "    this.format_dropdown = undefined;\n",
       "\n",
       "    this.image_mode = 'full';\n",
       "\n",
       "    this.root = $('<div/>');\n",
       "    this._root_extra_style(this.root)\n",
       "    this.root.attr('style', 'display: inline-block');\n",
       "\n",
       "    $(parent_element).append(this.root);\n",
       "\n",
       "    this._init_header(this);\n",
       "    this._init_canvas(this);\n",
       "    this._init_toolbar(this);\n",
       "\n",
       "    var fig = this;\n",
       "\n",
       "    this.waiting = false;\n",
       "\n",
       "    this.ws.onopen =  function () {\n",
       "            fig.send_message(\"supports_binary\", {value: fig.supports_binary});\n",
       "            fig.send_message(\"send_image_mode\", {});\n",
       "            if (mpl.ratio != 1) {\n",
       "                fig.send_message(\"set_dpi_ratio\", {'dpi_ratio': mpl.ratio});\n",
       "            }\n",
       "            fig.send_message(\"refresh\", {});\n",
       "        }\n",
       "\n",
       "    this.imageObj.onload = function() {\n",
       "            if (fig.image_mode == 'full') {\n",
       "                // Full images could contain transparency (where diff images\n",
       "                // almost always do), so we need to clear the canvas so that\n",
       "                // there is no ghosting.\n",
       "                fig.context.clearRect(0, 0, fig.canvas.width, fig.canvas.height);\n",
       "            }\n",
       "            fig.context.drawImage(fig.imageObj, 0, 0);\n",
       "        };\n",
       "\n",
       "    this.imageObj.onunload = function() {\n",
       "        fig.ws.close();\n",
       "    }\n",
       "\n",
       "    this.ws.onmessage = this._make_on_message_function(this);\n",
       "\n",
       "    this.ondownload = ondownload;\n",
       "}\n",
       "\n",
       "mpl.figure.prototype._init_header = function() {\n",
       "    var titlebar = $(\n",
       "        '<div class=\"ui-dialog-titlebar ui-widget-header ui-corner-all ' +\n",
       "        'ui-helper-clearfix\"/>');\n",
       "    var titletext = $(\n",
       "        '<div class=\"ui-dialog-title\" style=\"width: 100%; ' +\n",
       "        'text-align: center; padding: 3px;\"/>');\n",
       "    titlebar.append(titletext)\n",
       "    this.root.append(titlebar);\n",
       "    this.header = titletext[0];\n",
       "}\n",
       "\n",
       "\n",
       "\n",
       "mpl.figure.prototype._canvas_extra_style = function(canvas_div) {\n",
       "\n",
       "}\n",
       "\n",
       "\n",
       "mpl.figure.prototype._root_extra_style = function(canvas_div) {\n",
       "\n",
       "}\n",
       "\n",
       "mpl.figure.prototype._init_canvas = function() {\n",
       "    var fig = this;\n",
       "\n",
       "    var canvas_div = $('<div/>');\n",
       "\n",
       "    canvas_div.attr('style', 'position: relative; clear: both; outline: 0');\n",
       "\n",
       "    function canvas_keyboard_event(event) {\n",
       "        return fig.key_event(event, event['data']);\n",
       "    }\n",
       "\n",
       "    canvas_div.keydown('key_press', canvas_keyboard_event);\n",
       "    canvas_div.keyup('key_release', canvas_keyboard_event);\n",
       "    this.canvas_div = canvas_div\n",
       "    this._canvas_extra_style(canvas_div)\n",
       "    this.root.append(canvas_div);\n",
       "\n",
       "    var canvas = $('<canvas/>');\n",
       "    canvas.addClass('mpl-canvas');\n",
       "    canvas.attr('style', \"left: 0; top: 0; z-index: 0; outline: 0\")\n",
       "\n",
       "    this.canvas = canvas[0];\n",
       "    this.context = canvas[0].getContext(\"2d\");\n",
       "\n",
       "    var backingStore = this.context.backingStorePixelRatio ||\n",
       "\tthis.context.webkitBackingStorePixelRatio ||\n",
       "\tthis.context.mozBackingStorePixelRatio ||\n",
       "\tthis.context.msBackingStorePixelRatio ||\n",
       "\tthis.context.oBackingStorePixelRatio ||\n",
       "\tthis.context.backingStorePixelRatio || 1;\n",
       "\n",
       "    mpl.ratio = (window.devicePixelRatio || 1) / backingStore;\n",
       "\n",
       "    var rubberband = $('<canvas/>');\n",
       "    rubberband.attr('style', \"position: absolute; left: 0; top: 0; z-index: 1;\")\n",
       "\n",
       "    var pass_mouse_events = true;\n",
       "\n",
       "    canvas_div.resizable({\n",
       "        start: function(event, ui) {\n",
       "            pass_mouse_events = false;\n",
       "        },\n",
       "        resize: function(event, ui) {\n",
       "            fig.request_resize(ui.size.width, ui.size.height);\n",
       "        },\n",
       "        stop: function(event, ui) {\n",
       "            pass_mouse_events = true;\n",
       "            fig.request_resize(ui.size.width, ui.size.height);\n",
       "        },\n",
       "    });\n",
       "\n",
       "    function mouse_event_fn(event) {\n",
       "        if (pass_mouse_events)\n",
       "            return fig.mouse_event(event, event['data']);\n",
       "    }\n",
       "\n",
       "    rubberband.mousedown('button_press', mouse_event_fn);\n",
       "    rubberband.mouseup('button_release', mouse_event_fn);\n",
       "    // Throttle sequential mouse events to 1 every 20ms.\n",
       "    rubberband.mousemove('motion_notify', mouse_event_fn);\n",
       "\n",
       "    rubberband.mouseenter('figure_enter', mouse_event_fn);\n",
       "    rubberband.mouseleave('figure_leave', mouse_event_fn);\n",
       "\n",
       "    canvas_div.on(\"wheel\", function (event) {\n",
       "        event = event.originalEvent;\n",
       "        event['data'] = 'scroll'\n",
       "        if (event.deltaY < 0) {\n",
       "            event.step = 1;\n",
       "        } else {\n",
       "            event.step = -1;\n",
       "        }\n",
       "        mouse_event_fn(event);\n",
       "    });\n",
       "\n",
       "    canvas_div.append(canvas);\n",
       "    canvas_div.append(rubberband);\n",
       "\n",
       "    this.rubberband = rubberband;\n",
       "    this.rubberband_canvas = rubberband[0];\n",
       "    this.rubberband_context = rubberband[0].getContext(\"2d\");\n",
       "    this.rubberband_context.strokeStyle = \"#000000\";\n",
       "\n",
       "    this._resize_canvas = function(width, height) {\n",
       "        // Keep the size of the canvas, canvas container, and rubber band\n",
       "        // canvas in synch.\n",
       "        canvas_div.css('width', width)\n",
       "        canvas_div.css('height', height)\n",
       "\n",
       "        canvas.attr('width', width * mpl.ratio);\n",
       "        canvas.attr('height', height * mpl.ratio);\n",
       "        canvas.attr('style', 'width: ' + width + 'px; height: ' + height + 'px;');\n",
       "\n",
       "        rubberband.attr('width', width);\n",
       "        rubberband.attr('height', height);\n",
       "    }\n",
       "\n",
       "    // Set the figure to an initial 600x600px, this will subsequently be updated\n",
       "    // upon first draw.\n",
       "    this._resize_canvas(600, 600);\n",
       "\n",
       "    // Disable right mouse context menu.\n",
       "    $(this.rubberband_canvas).bind(\"contextmenu\",function(e){\n",
       "        return false;\n",
       "    });\n",
       "\n",
       "    function set_focus () {\n",
       "        canvas.focus();\n",
       "        canvas_div.focus();\n",
       "    }\n",
       "\n",
       "    window.setTimeout(set_focus, 100);\n",
       "}\n",
       "\n",
       "mpl.figure.prototype._init_toolbar = function() {\n",
       "    var fig = this;\n",
       "\n",
       "    var nav_element = $('<div/>');\n",
       "    nav_element.attr('style', 'width: 100%');\n",
       "    this.root.append(nav_element);\n",
       "\n",
       "    // Define a callback function for later on.\n",
       "    function toolbar_event(event) {\n",
       "        return fig.toolbar_button_onclick(event['data']);\n",
       "    }\n",
       "    function toolbar_mouse_event(event) {\n",
       "        return fig.toolbar_button_onmouseover(event['data']);\n",
       "    }\n",
       "\n",
       "    for(var toolbar_ind in mpl.toolbar_items) {\n",
       "        var name = mpl.toolbar_items[toolbar_ind][0];\n",
       "        var tooltip = mpl.toolbar_items[toolbar_ind][1];\n",
       "        var image = mpl.toolbar_items[toolbar_ind][2];\n",
       "        var method_name = mpl.toolbar_items[toolbar_ind][3];\n",
       "\n",
       "        if (!name) {\n",
       "            // put a spacer in here.\n",
       "            continue;\n",
       "        }\n",
       "        var button = $('<button/>');\n",
       "        button.addClass('ui-button ui-widget ui-state-default ui-corner-all ' +\n",
       "                        'ui-button-icon-only');\n",
       "        button.attr('role', 'button');\n",
       "        button.attr('aria-disabled', 'false');\n",
       "        button.click(method_name, toolbar_event);\n",
       "        button.mouseover(tooltip, toolbar_mouse_event);\n",
       "\n",
       "        var icon_img = $('<span/>');\n",
       "        icon_img.addClass('ui-button-icon-primary ui-icon');\n",
       "        icon_img.addClass(image);\n",
       "        icon_img.addClass('ui-corner-all');\n",
       "\n",
       "        var tooltip_span = $('<span/>');\n",
       "        tooltip_span.addClass('ui-button-text');\n",
       "        tooltip_span.html(tooltip);\n",
       "\n",
       "        button.append(icon_img);\n",
       "        button.append(tooltip_span);\n",
       "\n",
       "        nav_element.append(button);\n",
       "    }\n",
       "\n",
       "    var fmt_picker_span = $('<span/>');\n",
       "\n",
       "    var fmt_picker = $('<select/>');\n",
       "    fmt_picker.addClass('mpl-toolbar-option ui-widget ui-widget-content');\n",
       "    fmt_picker_span.append(fmt_picker);\n",
       "    nav_element.append(fmt_picker_span);\n",
       "    this.format_dropdown = fmt_picker[0];\n",
       "\n",
       "    for (var ind in mpl.extensions) {\n",
       "        var fmt = mpl.extensions[ind];\n",
       "        var option = $(\n",
       "            '<option/>', {selected: fmt === mpl.default_extension}).html(fmt);\n",
       "        fmt_picker.append(option);\n",
       "    }\n",
       "\n",
       "    // Add hover states to the ui-buttons\n",
       "    $( \".ui-button\" ).hover(\n",
       "        function() { $(this).addClass(\"ui-state-hover\");},\n",
       "        function() { $(this).removeClass(\"ui-state-hover\");}\n",
       "    );\n",
       "\n",
       "    var status_bar = $('<span class=\"mpl-message\"/>');\n",
       "    nav_element.append(status_bar);\n",
       "    this.message = status_bar[0];\n",
       "}\n",
       "\n",
       "mpl.figure.prototype.request_resize = function(x_pixels, y_pixels) {\n",
       "    // Request matplotlib to resize the figure. Matplotlib will then trigger a resize in the client,\n",
       "    // which will in turn request a refresh of the image.\n",
       "    this.send_message('resize', {'width': x_pixels, 'height': y_pixels});\n",
       "}\n",
       "\n",
       "mpl.figure.prototype.send_message = function(type, properties) {\n",
       "    properties['type'] = type;\n",
       "    properties['figure_id'] = this.id;\n",
       "    this.ws.send(JSON.stringify(properties));\n",
       "}\n",
       "\n",
       "mpl.figure.prototype.send_draw_message = function() {\n",
       "    if (!this.waiting) {\n",
       "        this.waiting = true;\n",
       "        this.ws.send(JSON.stringify({type: \"draw\", figure_id: this.id}));\n",
       "    }\n",
       "}\n",
       "\n",
       "\n",
       "mpl.figure.prototype.handle_save = function(fig, msg) {\n",
       "    var format_dropdown = fig.format_dropdown;\n",
       "    var format = format_dropdown.options[format_dropdown.selectedIndex].value;\n",
       "    fig.ondownload(fig, format);\n",
       "}\n",
       "\n",
       "\n",
       "mpl.figure.prototype.handle_resize = function(fig, msg) {\n",
       "    var size = msg['size'];\n",
       "    if (size[0] != fig.canvas.width || size[1] != fig.canvas.height) {\n",
       "        fig._resize_canvas(size[0], size[1]);\n",
       "        fig.send_message(\"refresh\", {});\n",
       "    };\n",
       "}\n",
       "\n",
       "mpl.figure.prototype.handle_rubberband = function(fig, msg) {\n",
       "    var x0 = msg['x0'] / mpl.ratio;\n",
       "    var y0 = (fig.canvas.height - msg['y0']) / mpl.ratio;\n",
       "    var x1 = msg['x1'] / mpl.ratio;\n",
       "    var y1 = (fig.canvas.height - msg['y1']) / mpl.ratio;\n",
       "    x0 = Math.floor(x0) + 0.5;\n",
       "    y0 = Math.floor(y0) + 0.5;\n",
       "    x1 = Math.floor(x1) + 0.5;\n",
       "    y1 = Math.floor(y1) + 0.5;\n",
       "    var min_x = Math.min(x0, x1);\n",
       "    var min_y = Math.min(y0, y1);\n",
       "    var width = Math.abs(x1 - x0);\n",
       "    var height = Math.abs(y1 - y0);\n",
       "\n",
       "    fig.rubberband_context.clearRect(\n",
       "        0, 0, fig.canvas.width / mpl.ratio, fig.canvas.height / mpl.ratio);\n",
       "\n",
       "    fig.rubberband_context.strokeRect(min_x, min_y, width, height);\n",
       "}\n",
       "\n",
       "mpl.figure.prototype.handle_figure_label = function(fig, msg) {\n",
       "    // Updates the figure title.\n",
       "    fig.header.textContent = msg['label'];\n",
       "}\n",
       "\n",
       "mpl.figure.prototype.handle_cursor = function(fig, msg) {\n",
       "    var cursor = msg['cursor'];\n",
       "    switch(cursor)\n",
       "    {\n",
       "    case 0:\n",
       "        cursor = 'pointer';\n",
       "        break;\n",
       "    case 1:\n",
       "        cursor = 'default';\n",
       "        break;\n",
       "    case 2:\n",
       "        cursor = 'crosshair';\n",
       "        break;\n",
       "    case 3:\n",
       "        cursor = 'move';\n",
       "        break;\n",
       "    }\n",
       "    fig.rubberband_canvas.style.cursor = cursor;\n",
       "}\n",
       "\n",
       "mpl.figure.prototype.handle_message = function(fig, msg) {\n",
       "    fig.message.textContent = msg['message'];\n",
       "}\n",
       "\n",
       "mpl.figure.prototype.handle_draw = function(fig, msg) {\n",
       "    // Request the server to send over a new figure.\n",
       "    fig.send_draw_message();\n",
       "}\n",
       "\n",
       "mpl.figure.prototype.handle_image_mode = function(fig, msg) {\n",
       "    fig.image_mode = msg['mode'];\n",
       "}\n",
       "\n",
       "mpl.figure.prototype.updated_canvas_event = function() {\n",
       "    // Called whenever the canvas gets updated.\n",
       "    this.send_message(\"ack\", {});\n",
       "}\n",
       "\n",
       "// A function to construct a web socket function for onmessage handling.\n",
       "// Called in the figure constructor.\n",
       "mpl.figure.prototype._make_on_message_function = function(fig) {\n",
       "    return function socket_on_message(evt) {\n",
       "        if (evt.data instanceof Blob) {\n",
       "            /* FIXME: We get \"Resource interpreted as Image but\n",
       "             * transferred with MIME type text/plain:\" errors on\n",
       "             * Chrome.  But how to set the MIME type?  It doesn't seem\n",
       "             * to be part of the websocket stream */\n",
       "            evt.data.type = \"image/png\";\n",
       "\n",
       "            /* Free the memory for the previous frames */\n",
       "            if (fig.imageObj.src) {\n",
       "                (window.URL || window.webkitURL).revokeObjectURL(\n",
       "                    fig.imageObj.src);\n",
       "            }\n",
       "\n",
       "            fig.imageObj.src = (window.URL || window.webkitURL).createObjectURL(\n",
       "                evt.data);\n",
       "            fig.updated_canvas_event();\n",
       "            fig.waiting = false;\n",
       "            return;\n",
       "        }\n",
       "        else if (typeof evt.data === 'string' && evt.data.slice(0, 21) == \"data:image/png;base64\") {\n",
       "            fig.imageObj.src = evt.data;\n",
       "            fig.updated_canvas_event();\n",
       "            fig.waiting = false;\n",
       "            return;\n",
       "        }\n",
       "\n",
       "        var msg = JSON.parse(evt.data);\n",
       "        var msg_type = msg['type'];\n",
       "\n",
       "        // Call the  \"handle_{type}\" callback, which takes\n",
       "        // the figure and JSON message as its only arguments.\n",
       "        try {\n",
       "            var callback = fig[\"handle_\" + msg_type];\n",
       "        } catch (e) {\n",
       "            console.log(\"No handler for the '\" + msg_type + \"' message type: \", msg);\n",
       "            return;\n",
       "        }\n",
       "\n",
       "        if (callback) {\n",
       "            try {\n",
       "                // console.log(\"Handling '\" + msg_type + \"' message: \", msg);\n",
       "                callback(fig, msg);\n",
       "            } catch (e) {\n",
       "                console.log(\"Exception inside the 'handler_\" + msg_type + \"' callback:\", e, e.stack, msg);\n",
       "            }\n",
       "        }\n",
       "    };\n",
       "}\n",
       "\n",
       "// from http://stackoverflow.com/questions/1114465/getting-mouse-location-in-canvas\n",
       "mpl.findpos = function(e) {\n",
       "    //this section is from http://www.quirksmode.org/js/events_properties.html\n",
       "    var targ;\n",
       "    if (!e)\n",
       "        e = window.event;\n",
       "    if (e.target)\n",
       "        targ = e.target;\n",
       "    else if (e.srcElement)\n",
       "        targ = e.srcElement;\n",
       "    if (targ.nodeType == 3) // defeat Safari bug\n",
       "        targ = targ.parentNode;\n",
       "\n",
       "    // jQuery normalizes the pageX and pageY\n",
       "    // pageX,Y are the mouse positions relative to the document\n",
       "    // offset() returns the position of the element relative to the document\n",
       "    var x = e.pageX - $(targ).offset().left;\n",
       "    var y = e.pageY - $(targ).offset().top;\n",
       "\n",
       "    return {\"x\": x, \"y\": y};\n",
       "};\n",
       "\n",
       "/*\n",
       " * return a copy of an object with only non-object keys\n",
       " * we need this to avoid circular references\n",
       " * http://stackoverflow.com/a/24161582/3208463\n",
       " */\n",
       "function simpleKeys (original) {\n",
       "  return Object.keys(original).reduce(function (obj, key) {\n",
       "    if (typeof original[key] !== 'object')\n",
       "        obj[key] = original[key]\n",
       "    return obj;\n",
       "  }, {});\n",
       "}\n",
       "\n",
       "mpl.figure.prototype.mouse_event = function(event, name) {\n",
       "    var canvas_pos = mpl.findpos(event)\n",
       "\n",
       "    if (name === 'button_press')\n",
       "    {\n",
       "        this.canvas.focus();\n",
       "        this.canvas_div.focus();\n",
       "    }\n",
       "\n",
       "    var x = canvas_pos.x * mpl.ratio;\n",
       "    var y = canvas_pos.y * mpl.ratio;\n",
       "\n",
       "    this.send_message(name, {x: x, y: y, button: event.button,\n",
       "                             step: event.step,\n",
       "                             guiEvent: simpleKeys(event)});\n",
       "\n",
       "    /* This prevents the web browser from automatically changing to\n",
       "     * the text insertion cursor when the button is pressed.  We want\n",
       "     * to control all of the cursor setting manually through the\n",
       "     * 'cursor' event from matplotlib */\n",
       "    event.preventDefault();\n",
       "    return false;\n",
       "}\n",
       "\n",
       "mpl.figure.prototype._key_event_extra = function(event, name) {\n",
       "    // Handle any extra behaviour associated with a key event\n",
       "}\n",
       "\n",
       "mpl.figure.prototype.key_event = function(event, name) {\n",
       "\n",
       "    // Prevent repeat events\n",
       "    if (name == 'key_press')\n",
       "    {\n",
       "        if (event.which === this._key)\n",
       "            return;\n",
       "        else\n",
       "            this._key = event.which;\n",
       "    }\n",
       "    if (name == 'key_release')\n",
       "        this._key = null;\n",
       "\n",
       "    var value = '';\n",
       "    if (event.ctrlKey && event.which != 17)\n",
       "        value += \"ctrl+\";\n",
       "    if (event.altKey && event.which != 18)\n",
       "        value += \"alt+\";\n",
       "    if (event.shiftKey && event.which != 16)\n",
       "        value += \"shift+\";\n",
       "\n",
       "    value += 'k';\n",
       "    value += event.which.toString();\n",
       "\n",
       "    this._key_event_extra(event, name);\n",
       "\n",
       "    this.send_message(name, {key: value,\n",
       "                             guiEvent: simpleKeys(event)});\n",
       "    return false;\n",
       "}\n",
       "\n",
       "mpl.figure.prototype.toolbar_button_onclick = function(name) {\n",
       "    if (name == 'download') {\n",
       "        this.handle_save(this, null);\n",
       "    } else {\n",
       "        this.send_message(\"toolbar_button\", {name: name});\n",
       "    }\n",
       "};\n",
       "\n",
       "mpl.figure.prototype.toolbar_button_onmouseover = function(tooltip) {\n",
       "    this.message.textContent = tooltip;\n",
       "};\n",
       "mpl.toolbar_items = [[\"Home\", \"Reset original view\", \"fa fa-home icon-home\", \"home\"], [\"Back\", \"Back to previous view\", \"fa fa-arrow-left icon-arrow-left\", \"back\"], [\"Forward\", \"Forward to next view\", \"fa fa-arrow-right icon-arrow-right\", \"forward\"], [\"\", \"\", \"\", \"\"], [\"Pan\", \"Pan axes with left mouse, zoom with right\", \"fa fa-arrows icon-move\", \"pan\"], [\"Zoom\", \"Zoom to rectangle\", \"fa fa-square-o icon-check-empty\", \"zoom\"], [\"\", \"\", \"\", \"\"], [\"Download\", \"Download plot\", \"fa fa-floppy-o icon-save\", \"download\"]];\n",
       "\n",
       "mpl.extensions = [\"eps\", \"pdf\", \"png\", \"ps\", \"raw\", \"svg\"];\n",
       "\n",
       "mpl.default_extension = \"png\";var comm_websocket_adapter = function(comm) {\n",
       "    // Create a \"websocket\"-like object which calls the given IPython comm\n",
       "    // object with the appropriate methods. Currently this is a non binary\n",
       "    // socket, so there is still some room for performance tuning.\n",
       "    var ws = {};\n",
       "\n",
       "    ws.close = function() {\n",
       "        comm.close()\n",
       "    };\n",
       "    ws.send = function(m) {\n",
       "        //console.log('sending', m);\n",
       "        comm.send(m);\n",
       "    };\n",
       "    // Register the callback with on_msg.\n",
       "    comm.on_msg(function(msg) {\n",
       "        //console.log('receiving', msg['content']['data'], msg);\n",
       "        // Pass the mpl event to the overridden (by mpl) onmessage function.\n",
       "        ws.onmessage(msg['content']['data'])\n",
       "    });\n",
       "    return ws;\n",
       "}\n",
       "\n",
       "mpl.mpl_figure_comm = function(comm, msg) {\n",
       "    // This is the function which gets called when the mpl process\n",
       "    // starts-up an IPython Comm through the \"matplotlib\" channel.\n",
       "\n",
       "    var id = msg.content.data.id;\n",
       "    // Get hold of the div created by the display call when the Comm\n",
       "    // socket was opened in Python.\n",
       "    var element = $(\"#\" + id);\n",
       "    var ws_proxy = comm_websocket_adapter(comm)\n",
       "\n",
       "    function ondownload(figure, format) {\n",
       "        window.open(figure.imageObj.src);\n",
       "    }\n",
       "\n",
       "    var fig = new mpl.figure(id, ws_proxy,\n",
       "                           ondownload,\n",
       "                           element.get(0));\n",
       "\n",
       "    // Call onopen now - mpl needs it, as it is assuming we've passed it a real\n",
       "    // web socket which is closed, not our websocket->open comm proxy.\n",
       "    ws_proxy.onopen();\n",
       "\n",
       "    fig.parent_element = element.get(0);\n",
       "    fig.cell_info = mpl.find_output_cell(\"<div id='\" + id + \"'></div>\");\n",
       "    if (!fig.cell_info) {\n",
       "        console.error(\"Failed to find cell for figure\", id, fig);\n",
       "        return;\n",
       "    }\n",
       "\n",
       "    var output_index = fig.cell_info[2]\n",
       "    var cell = fig.cell_info[0];\n",
       "\n",
       "};\n",
       "\n",
       "mpl.figure.prototype.handle_close = function(fig, msg) {\n",
       "    var width = fig.canvas.width/mpl.ratio\n",
       "    fig.root.unbind('remove')\n",
       "\n",
       "    // Update the output cell to use the data from the current canvas.\n",
       "    fig.push_to_output();\n",
       "    var dataURL = fig.canvas.toDataURL();\n",
       "    // Re-enable the keyboard manager in IPython - without this line, in FF,\n",
       "    // the notebook keyboard shortcuts fail.\n",
       "    IPython.keyboard_manager.enable()\n",
       "    $(fig.parent_element).html('<img src=\"' + dataURL + '\" width=\"' + width + '\">');\n",
       "    fig.close_ws(fig, msg);\n",
       "}\n",
       "\n",
       "mpl.figure.prototype.close_ws = function(fig, msg){\n",
       "    fig.send_message('closing', msg);\n",
       "    // fig.ws.close()\n",
       "}\n",
       "\n",
       "mpl.figure.prototype.push_to_output = function(remove_interactive) {\n",
       "    // Turn the data on the canvas into data in the output cell.\n",
       "    var width = this.canvas.width/mpl.ratio\n",
       "    var dataURL = this.canvas.toDataURL();\n",
       "    this.cell_info[1]['text/html'] = '<img src=\"' + dataURL + '\" width=\"' + width + '\">';\n",
       "}\n",
       "\n",
       "mpl.figure.prototype.updated_canvas_event = function() {\n",
       "    // Tell IPython that the notebook contents must change.\n",
       "    IPython.notebook.set_dirty(true);\n",
       "    this.send_message(\"ack\", {});\n",
       "    var fig = this;\n",
       "    // Wait a second, then push the new image to the DOM so\n",
       "    // that it is saved nicely (might be nice to debounce this).\n",
       "    setTimeout(function () { fig.push_to_output() }, 1000);\n",
       "}\n",
       "\n",
       "mpl.figure.prototype._init_toolbar = function() {\n",
       "    var fig = this;\n",
       "\n",
       "    var nav_element = $('<div/>');\n",
       "    nav_element.attr('style', 'width: 100%');\n",
       "    this.root.append(nav_element);\n",
       "\n",
       "    // Define a callback function for later on.\n",
       "    function toolbar_event(event) {\n",
       "        return fig.toolbar_button_onclick(event['data']);\n",
       "    }\n",
       "    function toolbar_mouse_event(event) {\n",
       "        return fig.toolbar_button_onmouseover(event['data']);\n",
       "    }\n",
       "\n",
       "    for(var toolbar_ind in mpl.toolbar_items){\n",
       "        var name = mpl.toolbar_items[toolbar_ind][0];\n",
       "        var tooltip = mpl.toolbar_items[toolbar_ind][1];\n",
       "        var image = mpl.toolbar_items[toolbar_ind][2];\n",
       "        var method_name = mpl.toolbar_items[toolbar_ind][3];\n",
       "\n",
       "        if (!name) { continue; };\n",
       "\n",
       "        var button = $('<button class=\"btn btn-default\" href=\"#\" title=\"' + name + '\"><i class=\"fa ' + image + ' fa-lg\"></i></button>');\n",
       "        button.click(method_name, toolbar_event);\n",
       "        button.mouseover(tooltip, toolbar_mouse_event);\n",
       "        nav_element.append(button);\n",
       "    }\n",
       "\n",
       "    // Add the status bar.\n",
       "    var status_bar = $('<span class=\"mpl-message\" style=\"text-align:right; float: right;\"/>');\n",
       "    nav_element.append(status_bar);\n",
       "    this.message = status_bar[0];\n",
       "\n",
       "    // Add the close button to the window.\n",
       "    var buttongrp = $('<div class=\"btn-group inline pull-right\"></div>');\n",
       "    var button = $('<button class=\"btn btn-mini btn-primary\" href=\"#\" title=\"Stop Interaction\"><i class=\"fa fa-power-off icon-remove icon-large\"></i></button>');\n",
       "    button.click(function (evt) { fig.handle_close(fig, {}); } );\n",
       "    button.mouseover('Stop Interaction', toolbar_mouse_event);\n",
       "    buttongrp.append(button);\n",
       "    var titlebar = this.root.find($('.ui-dialog-titlebar'));\n",
       "    titlebar.prepend(buttongrp);\n",
       "}\n",
       "\n",
       "mpl.figure.prototype._root_extra_style = function(el){\n",
       "    var fig = this\n",
       "    el.on(\"remove\", function(){\n",
       "\tfig.close_ws(fig, {});\n",
       "    });\n",
       "}\n",
       "\n",
       "mpl.figure.prototype._canvas_extra_style = function(el){\n",
       "    // this is important to make the div 'focusable\n",
       "    el.attr('tabindex', 0)\n",
       "    // reach out to IPython and tell the keyboard manager to turn it's self\n",
       "    // off when our div gets focus\n",
       "\n",
       "    // location in version 3\n",
       "    if (IPython.notebook.keyboard_manager) {\n",
       "        IPython.notebook.keyboard_manager.register_events(el);\n",
       "    }\n",
       "    else {\n",
       "        // location in version 2\n",
       "        IPython.keyboard_manager.register_events(el);\n",
       "    }\n",
       "\n",
       "}\n",
       "\n",
       "mpl.figure.prototype._key_event_extra = function(event, name) {\n",
       "    var manager = IPython.notebook.keyboard_manager;\n",
       "    if (!manager)\n",
       "        manager = IPython.keyboard_manager;\n",
       "\n",
       "    // Check for shift+enter\n",
       "    if (event.shiftKey && event.which == 13) {\n",
       "        this.canvas_div.blur();\n",
       "        // select the cell after this one\n",
       "        var index = IPython.notebook.find_cell_index(this.cell_info[0]);\n",
       "        IPython.notebook.select(index + 1);\n",
       "    }\n",
       "}\n",
       "\n",
       "mpl.figure.prototype.handle_save = function(fig, msg) {\n",
       "    fig.ondownload(fig, null);\n",
       "}\n",
       "\n",
       "\n",
       "mpl.find_output_cell = function(html_output) {\n",
       "    // Return the cell and output element which can be found *uniquely* in the notebook.\n",
       "    // Note - this is a bit hacky, but it is done because the \"notebook_saving.Notebook\"\n",
       "    // IPython event is triggered only after the cells have been serialised, which for\n",
       "    // our purposes (turning an active figure into a static one), is too late.\n",
       "    var cells = IPython.notebook.get_cells();\n",
       "    var ncells = cells.length;\n",
       "    for (var i=0; i<ncells; i++) {\n",
       "        var cell = cells[i];\n",
       "        if (cell.cell_type === 'code'){\n",
       "            for (var j=0; j<cell.output_area.outputs.length; j++) {\n",
       "                var data = cell.output_area.outputs[j];\n",
       "                if (data.data) {\n",
       "                    // IPython >= 3 moved mimebundle to data attribute of output\n",
       "                    data = data.data;\n",
       "                }\n",
       "                if (data['text/html'] == html_output) {\n",
       "                    return [cell, data, j];\n",
       "                }\n",
       "            }\n",
       "        }\n",
       "    }\n",
       "}\n",
       "\n",
       "// Register the function which deals with the matplotlib target/channel.\n",
       "// The kernel may be null if the page has been refreshed.\n",
       "if (IPython.notebook.kernel != null) {\n",
       "    IPython.notebook.kernel.comm_manager.register_target('matplotlib', mpl.mpl_figure_comm);\n",
       "}\n"
      ],
      "text/plain": [
       "<IPython.core.display.Javascript object>"
      ]
     },
     "metadata": {},
     "output_type": "display_data"
    },
    {
     "data": {
      "text/html": [
       "<img src=\"data:image/png;base64,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\" width=\"432\">"
      ],
      "text/plain": [
       "<IPython.core.display.HTML object>"
      ]
     },
     "metadata": {},
     "output_type": "display_data"
    }
   ],
   "source": [
    "%matplotlib notebook\n",
    "%run -i ./code/03_kinetics/stress_space_plot"
   ]
  },
  {
   "cell_type": "markdown",
   "metadata": {},
   "source": [
    "# Hyperelasticity"
   ]
  },
  {
   "cell_type": "markdown",
   "metadata": {},
   "source": [
    "Thermodynamic / mathematical considerations which lead to hyperelasticity criterion\n",
    "\n",
    "Energy density functions\n",
    "\n",
    "Comparison of different energy density functions, St.Venant Kirchhoff\n",
    "\n",
    "Based on Treloar data"
   ]
  },
  {
   "cell_type": "markdown",
   "metadata": {},
   "source": [
    "# Further Information"
   ]
  },
  {
   "cell_type": "markdown",
   "metadata": {},
   "source": [
    "Holzapfel, G. (2000). Nonlinear solid mechanics: a continuum approach for engineering.\n",
    "\n"
   ]
  }
 ],
 "metadata": {
  "kernelspec": {
   "display_name": "Python 3",
   "language": "python",
   "name": "python3"
  },
  "language_info": {
   "codemirror_mode": {
    "name": "ipython",
    "version": 3
   },
   "file_extension": ".py",
   "mimetype": "text/x-python",
   "name": "python",
   "nbconvert_exporter": "python",
   "pygments_lexer": "ipython3",
   "version": "3.7.6"
  }
 },
 "nbformat": 4,
 "nbformat_minor": 4
}
