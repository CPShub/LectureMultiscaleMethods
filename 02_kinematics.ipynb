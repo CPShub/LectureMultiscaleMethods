{
 "cells": [
  {
   "cell_type": "code",
   "execution_count": 1,
   "metadata": {},
   "outputs": [
    {
     "data": {
      "application/javascript": [
       "Jupyter.notebook.execute_cells([3,4,7,8,9,12,13])"
      ],
      "text/plain": [
       "<IPython.core.display.Javascript object>"
      ]
     },
     "metadata": {},
     "output_type": "display_data"
    }
   ],
   "source": [
    "######################################\n",
    "# Run First Cell for Initialization  #\n",
    "#                                    #\n",
    "#           SHIFT + ENTER            #\n",
    "######################################\n",
    "\n",
    "# Initialize notebook\n",
    "%run -i ./code/02_kinematics/initialize\n",
    "# Load functions in external python scripts\n",
    "%load_ext autoreload\n",
    "%autoreload 1\n",
    "%aimport refresh\n",
    "\n",
    "display(Javascript(\"Jupyter.notebook.execute_cells([3,4,7,8,9,12,13])\"))"
   ]
  },
  {
   "cell_type": "markdown",
   "metadata": {},
   "source": [
    "# Deformation Gradient"
   ]
  },
  {
   "cell_type": "markdown",
   "metadata": {},
   "source": [
    "A body (solid continuum) in 3-dimensional space is given by a domain $\\Omega\\subset\\mathbb{R}^3$ as a collection of material points $\\boldsymbol{p}$. The body before and after deformation is represented by two different configurations. The reference (initial) configuration describes the undeformed body with material points $\\boldsymbol{p}$ with coordinates $\\boldsymbol{X}\\in\\Omega_0\\subset\\mathbb{R}^3$. A change of shape of the body (deformation) yields the current (deformed) configuration with material points $\\boldsymbol{p}'$ with coordinates $\\boldsymbol{x}\\in\\Omega\\subset\\mathbb{R}^3$.\n",
    "\n",
    "<img src=\"files/code/02_kinematics/configurations.JPG\" alt=\"Drawing\" style=\"width: 500px;\"/>\n",
    "\n",
    "Both configurations are connected by the deformation field \n",
    "\\begin{equation}\n",
    "\\boldsymbol{\\phi}:\\Omega_0\\rightarrow\\Omega,\\;\\boldsymbol{x}=\\boldsymbol{\\phi}\\left(\\boldsymbol{X},t\\right)\n",
    "\\end{equation}\n",
    "with the corresponding displacement field \n",
    "\\begin{equation}\n",
    "\\boldsymbol{u}:\\Omega_0\\rightarrow\\mathbb{R}^3,\\;\\boldsymbol{u}\\left(\\boldsymbol{X},t\\right)=\\boldsymbol{\\phi}\\left(\\boldsymbol{X},t\\right)-\\boldsymbol{X}=\\boldsymbol{x}-\\boldsymbol{X}\n",
    "\\end{equation}\n",
    "Capital letters denote the reference configuration, and smallercase letters denote the deformed configuration. A first order Taylor series approximation of the mapping $\\boldsymbol{\\phi}$\n",
    "\\begin{equation}\n",
    "\\boldsymbol{x}+d\\boldsymbol{x}=\\boldsymbol{\\phi}\\left(\\boldsymbol{X}+d\\boldsymbol{X}\\right)\\approx\\boldsymbol{\\phi}\\left(\\boldsymbol{X}\\right)+\\frac{d\\boldsymbol{\\phi}\\left(\\boldsymbol{X}\\right)}{d\\boldsymbol{X}}d\\boldsymbol{X}=\\boldsymbol{x}+\\nabla_{\\boldsymbol{X}}\\boldsymbol{\\phi}\\left(\\boldsymbol{X}\\right)d\\boldsymbol{X}\n",
    "\\end{equation}\n",
    "gives an approximation of the deformation of line elements $d\\boldsymbol{x}$ by\n",
    "\\begin{equation}\n",
    "d\\boldsymbol{x}\\approx\\nabla_{\\boldsymbol{X}}\\boldsymbol{\\phi}=\\left(\\boldsymbol{X}\\right)d\\boldsymbol{X}\n",
    "\\end{equation}\n",
    "\n",
    "The second order tensor $\\boldsymbol{F}:=\\nabla_{\\boldsymbol{X}}\\boldsymbol{\\phi}\\left(\\boldsymbol{X}\\right)=\\nabla_\\boldsymbol{X}\\boldsymbol{x}\\left(\\boldsymbol{X}\\right)=\\boldsymbol{I}+\\nabla_\\boldsymbol{X}\\boldsymbol{u}\\left(\\boldsymbol{X}\\right)$ defines the deformation gradient. The deformation gradient is the linearization of the mapping between reference and current deformation.\n",
    "\n",
    "The gradient operator corresponds to the componentwise derivative of the deformed vector $\\boldsymbol{x}$ with respect to the undeformed vector $\\boldsymbol{X}$\n",
    "\\begin{equation}\n",
    " F_{ij}=x_{i,j}=   \\frac{\\partial x_i}{\\partial X_j} =\n",
    " \\begin{bmatrix}\n",
    "   \\frac{\\partial x_1}{\\partial X_1} &\n",
    "   \\frac{\\partial x_1}{\\partial X_2} & \\frac{\\partial x_1}{\\partial X_3} \\\\\n",
    "   \\frac{\\partial x_2}{\\partial X_1} &\n",
    "   \\frac{\\partial x_2}{\\partial X_2} & \\frac{\\partial x_2}{\\partial X_3} \\\\\n",
    "      \\frac{\\partial x_3}{\\partial X_1} &\n",
    "   \\frac{\\partial x_3}{\\partial X_2} & \\frac{\\partial x_3}{\\partial X_3} \\\\\n",
    "   \\end{bmatrix}\n",
    "   \\end{equation}\n",
    "\n",
    "In the following we will restrict to plane stress states.\n",
    "\n",
    "The most simple deformation is stretching along the axes directions. Elongation in the 1-direction by 100% and elongation in the 2-direction by 60% is given by the deformation field\n",
    "\\begin{equation}\n",
    "x_1=2.0\\cdot X + 0.0 \\cdot Y\n",
    "\\\\\n",
    "x_2=0.0 \\cdot X + 1.6 \\cdot Y\n",
    "\\end{equation}\n",
    "which gives the deformation gradient\n",
    "\\begin{equation}\n",
    "\\boldsymbol{F}=\n",
    " \\begin{bmatrix}\n",
    "   2 & 0 \\\\\n",
    "   0 & 1.6\n",
    "   \\end{bmatrix}\n",
    "   \\end{equation}\n",
    "   \n",
    "## Polar Decomposition\n",
    "\n",
    "The deformation gradient can be uniquely composed into a part which rotates the body, and a part which changes the shape of the body. This multiplicative decomposition is called polar decomposition, which results in \n",
    "\\begin{equation}\n",
    "\\boldsymbol{F}=\\boldsymbol{R}\\cdot\\boldsymbol{U}=\\boldsymbol{v}\\cdot\\boldsymbol{R}\n",
    "\\end{equation}\n",
    "The symbol $\\boldsymbol{R}$ denotes the unimodular, orthogonal rotation tensor, i.e. $\\boldsymbol{R}^T\\cdot\\boldsymbol{R}=\\boldsymbol{R}\\cdot\\boldsymbol{R}^T=\\boldsymbol{I}$ and $\\text{det}\\left(\\boldsymbol{R}\\right)=1$. The symbols $\\boldsymbol{U}$ and $\\boldsymbol{v}$ denote the right and left stretch tensors, respectively. Both are symmetric positive definit.\n",
    "\n",
    "## Volume Change\n",
    "\n",
    "The volumetric strain is given by the determinant of the deformation gradient $J:=\\text{det}\\left(\\boldsymbol{F}\\right)>0$. At volume preserving deformations which we know from (nearly) incompressible materials, the Jacobian determinant equals one.\n",
    "\n",
    "The deformation gradient can further be composed into a part which changes the volume, and a part which changes the shape of body while preserving the volume, which is called deviatoric deformation.\n",
    "\\begin{equation}\n",
    "\\boldsymbol{F}=\\boldsymbol{R}\\cdot\\boldsymbol{U}=\\boldsymbol{R}\\cdot\\boldsymbol{U}_{dev}\\cdot\\boldsymbol{U}_{vol}\n",
    "\\end{equation}\n",
    "The deviatoric stretch tensor is unimodular, i.e. $\\text{det}\\left(\\boldsymbol{U}_{dev}\\right)=1$. The volumetric stretch tensor can be expressed with the scaled second order unit tensor $\\boldsymbol{U}_{vol}=\\epsilon_{vol}\\cdot\\boldsymbol{I}$\n",
    "\n",
    "\n",
    "The following examples are restricted to plane strain deformation states.\n"
   ]
  },
  {
   "cell_type": "code",
   "execution_count": 2,
   "metadata": {},
   "outputs": [
    {
     "data": {
      "application/vnd.jupyter.widget-view+json": {
       "model_id": "9ec32c1cc4dd43c5bc65c82c225c2f96",
       "version_major": 2,
       "version_minor": 0
      },
      "text/plain": [
       "interactive(children=(FloatSlider(value=1.0, description='F11', max=2.0, min=0.5), FloatSlider(value=1.0, desc…"
      ]
     },
     "metadata": {},
     "output_type": "display_data"
    },
    {
     "data": {
      "application/vnd.jupyter.widget-view+json": {
       "model_id": "c76031ee133c4176866c0e81464c8540",
       "version_major": 2,
       "version_minor": 0
      },
      "text/plain": [
       "Button(description='Refresh', style=ButtonStyle())"
      ]
     },
     "metadata": {},
     "output_type": "display_data"
    },
    {
     "data": {
      "application/javascript": [
       "Jupyter.notebook.execute_cells([4])"
      ],
      "text/plain": [
       "<IPython.core.display.Javascript object>"
      ]
     },
     "metadata": {},
     "output_type": "display_data"
    },
    {
     "data": {
      "application/javascript": [
       "Jupyter.notebook.execute_cells([7])"
      ],
      "text/plain": [
       "<IPython.core.display.Javascript object>"
      ]
     },
     "metadata": {},
     "output_type": "display_data"
    },
    {
     "data": {
      "application/javascript": [
       "Jupyter.notebook.execute_cells([12])"
      ],
      "text/plain": [
       "<IPython.core.display.Javascript object>"
      ]
     },
     "metadata": {},
     "output_type": "display_data"
    },
    {
     "data": {
      "application/javascript": [
       "Jupyter.notebook.execute_cells([13])"
      ],
      "text/plain": [
       "<IPython.core.display.Javascript object>"
      ]
     },
     "metadata": {},
     "output_type": "display_data"
    },
    {
     "data": {
      "application/javascript": [
       "Jupyter.notebook.execute_cells([4])"
      ],
      "text/plain": [
       "<IPython.core.display.Javascript object>"
      ]
     },
     "metadata": {},
     "output_type": "display_data"
    },
    {
     "data": {
      "application/javascript": [
       "Jupyter.notebook.execute_cells([7])"
      ],
      "text/plain": [
       "<IPython.core.display.Javascript object>"
      ]
     },
     "metadata": {},
     "output_type": "display_data"
    },
    {
     "data": {
      "application/javascript": [
       "Jupyter.notebook.execute_cells([12])"
      ],
      "text/plain": [
       "<IPython.core.display.Javascript object>"
      ]
     },
     "metadata": {},
     "output_type": "display_data"
    },
    {
     "data": {
      "application/javascript": [
       "Jupyter.notebook.execute_cells([13])"
      ],
      "text/plain": [
       "<IPython.core.display.Javascript object>"
      ]
     },
     "metadata": {},
     "output_type": "display_data"
    },
    {
     "data": {
      "application/javascript": [
       "Jupyter.notebook.execute_cells([4])"
      ],
      "text/plain": [
       "<IPython.core.display.Javascript object>"
      ]
     },
     "metadata": {},
     "output_type": "display_data"
    },
    {
     "data": {
      "application/javascript": [
       "Jupyter.notebook.execute_cells([7])"
      ],
      "text/plain": [
       "<IPython.core.display.Javascript object>"
      ]
     },
     "metadata": {},
     "output_type": "display_data"
    },
    {
     "data": {
      "application/javascript": [
       "Jupyter.notebook.execute_cells([12])"
      ],
      "text/plain": [
       "<IPython.core.display.Javascript object>"
      ]
     },
     "metadata": {},
     "output_type": "display_data"
    },
    {
     "data": {
      "application/javascript": [
       "Jupyter.notebook.execute_cells([13])"
      ],
      "text/plain": [
       "<IPython.core.display.Javascript object>"
      ]
     },
     "metadata": {},
     "output_type": "display_data"
    },
    {
     "data": {
      "application/javascript": [
       "Jupyter.notebook.execute_cells([4])"
      ],
      "text/plain": [
       "<IPython.core.display.Javascript object>"
      ]
     },
     "metadata": {},
     "output_type": "display_data"
    },
    {
     "data": {
      "application/javascript": [
       "Jupyter.notebook.execute_cells([7])"
      ],
      "text/plain": [
       "<IPython.core.display.Javascript object>"
      ]
     },
     "metadata": {},
     "output_type": "display_data"
    },
    {
     "data": {
      "application/javascript": [
       "Jupyter.notebook.execute_cells([12])"
      ],
      "text/plain": [
       "<IPython.core.display.Javascript object>"
      ]
     },
     "metadata": {},
     "output_type": "display_data"
    },
    {
     "data": {
      "application/javascript": [
       "Jupyter.notebook.execute_cells([13])"
      ],
      "text/plain": [
       "<IPython.core.display.Javascript object>"
      ]
     },
     "metadata": {},
     "output_type": "display_data"
    },
    {
     "data": {
      "application/javascript": [
       "Jupyter.notebook.execute_cells([4])"
      ],
      "text/plain": [
       "<IPython.core.display.Javascript object>"
      ]
     },
     "metadata": {},
     "output_type": "display_data"
    },
    {
     "data": {
      "application/javascript": [
       "Jupyter.notebook.execute_cells([7])"
      ],
      "text/plain": [
       "<IPython.core.display.Javascript object>"
      ]
     },
     "metadata": {},
     "output_type": "display_data"
    },
    {
     "data": {
      "application/javascript": [
       "Jupyter.notebook.execute_cells([12])"
      ],
      "text/plain": [
       "<IPython.core.display.Javascript object>"
      ]
     },
     "metadata": {},
     "output_type": "display_data"
    },
    {
     "data": {
      "application/javascript": [
       "Jupyter.notebook.execute_cells([13])"
      ],
      "text/plain": [
       "<IPython.core.display.Javascript object>"
      ]
     },
     "metadata": {},
     "output_type": "display_data"
    },
    {
     "data": {
      "application/javascript": [
       "Jupyter.notebook.execute_cells([4])"
      ],
      "text/plain": [
       "<IPython.core.display.Javascript object>"
      ]
     },
     "metadata": {},
     "output_type": "display_data"
    },
    {
     "data": {
      "application/javascript": [
       "Jupyter.notebook.execute_cells([7])"
      ],
      "text/plain": [
       "<IPython.core.display.Javascript object>"
      ]
     },
     "metadata": {},
     "output_type": "display_data"
    },
    {
     "data": {
      "application/javascript": [
       "Jupyter.notebook.execute_cells([12])"
      ],
      "text/plain": [
       "<IPython.core.display.Javascript object>"
      ]
     },
     "metadata": {},
     "output_type": "display_data"
    },
    {
     "data": {
      "application/javascript": [
       "Jupyter.notebook.execute_cells([13])"
      ],
      "text/plain": [
       "<IPython.core.display.Javascript object>"
      ]
     },
     "metadata": {},
     "output_type": "display_data"
    },
    {
     "data": {
      "application/javascript": [
       "Jupyter.notebook.execute_cells([4])"
      ],
      "text/plain": [
       "<IPython.core.display.Javascript object>"
      ]
     },
     "metadata": {},
     "output_type": "display_data"
    },
    {
     "data": {
      "application/javascript": [
       "Jupyter.notebook.execute_cells([7])"
      ],
      "text/plain": [
       "<IPython.core.display.Javascript object>"
      ]
     },
     "metadata": {},
     "output_type": "display_data"
    },
    {
     "data": {
      "application/javascript": [
       "Jupyter.notebook.execute_cells([12])"
      ],
      "text/plain": [
       "<IPython.core.display.Javascript object>"
      ]
     },
     "metadata": {},
     "output_type": "display_data"
    },
    {
     "data": {
      "application/javascript": [
       "Jupyter.notebook.execute_cells([13])"
      ],
      "text/plain": [
       "<IPython.core.display.Javascript object>"
      ]
     },
     "metadata": {},
     "output_type": "display_data"
    },
    {
     "data": {
      "application/javascript": [
       "Jupyter.notebook.execute_cells([4])"
      ],
      "text/plain": [
       "<IPython.core.display.Javascript object>"
      ]
     },
     "metadata": {},
     "output_type": "display_data"
    },
    {
     "data": {
      "application/javascript": [
       "Jupyter.notebook.execute_cells([7])"
      ],
      "text/plain": [
       "<IPython.core.display.Javascript object>"
      ]
     },
     "metadata": {},
     "output_type": "display_data"
    },
    {
     "data": {
      "application/javascript": [
       "Jupyter.notebook.execute_cells([12])"
      ],
      "text/plain": [
       "<IPython.core.display.Javascript object>"
      ]
     },
     "metadata": {},
     "output_type": "display_data"
    },
    {
     "data": {
      "application/javascript": [
       "Jupyter.notebook.execute_cells([13])"
      ],
      "text/plain": [
       "<IPython.core.display.Javascript object>"
      ]
     },
     "metadata": {},
     "output_type": "display_data"
    }
   ],
   "source": [
    "%run -i ./code/02_kinematics/F_input"
   ]
  },
  {
   "cell_type": "code",
   "execution_count": 37,
   "metadata": {
    "scrolled": false
   },
   "outputs": [
    {
     "name": "stdout",
     "output_type": "stream",
     "text": [
      "Rotation Tensor\n",
      "[[1.00000000e+00 8.86511593e-17 0.00000000e+00]\n",
      " [8.86511593e-17 1.00000000e+00 0.00000000e+00]\n",
      " [0.00000000e+00 0.00000000e+00 1.00000000e+00]]\n",
      "Left Stretch Tensor\n",
      "[[1.1     0.29999 0.     ]\n",
      " [0.29999 1.1     0.     ]\n",
      " [0.      0.      1.     ]]\n"
     ]
    },
    {
     "data": {
      "image/png": "[encoded data removed]",
      "text/plain": [
       "<Figure size 432x288 with 1 Axes>"
      ]
     },
     "metadata": {
      "needs_background": "light"
     },
     "output_type": "display_data"
    },
    {
     "name": "stdout",
     "output_type": "stream",
     "text": [
      "J\n",
      "1.1200059998999998\n"
     ]
    },
    {
     "data": {
      "image/png": "[encoded data removed]",
      "text/plain": [
       "<Figure size 432x288 with 1 Axes>"
      ]
     },
     "metadata": {
      "needs_background": "light"
     },
     "output_type": "display_data"
    }
   ],
   "source": [
    "%run -i ./code/02_kinematics/F_eval\n",
    "%run -i ./code/02_kinematics/F_dev_output\n",
    "%run -i ./code/02_kinematics/F_vol_output"
   ]
  },
  {
   "cell_type": "markdown",
   "metadata": {},
   "source": [
    "# Strain Measures"
   ]
  },
  {
   "cell_type": "markdown",
   "metadata": {},
   "source": [
    "At deformation, the length of the infinitesimal line element $d\\boldsymbol{X}$ is changed. The change of length between the infinitesimal line element in the reference configuration $d\\boldsymbol{X}$ and the length of the line element $d\\boldsymbol{x}$ in the deformed configuration leads to\n",
    "\\begin{equation}\n",
    "||d\\boldsymbol{x}||^2-||d\\boldsymbol{X}||^2=d\\boldsymbol{x}\\cdot d\\boldsymbol{x}-d\\boldsymbol{X}\\cdot d\\boldsymbol{X}\n",
    "\\\\\n",
    "=\\left(\\boldsymbol{F}d\\boldsymbol{X}\\right)^T\\left(\\boldsymbol{F}d\\boldsymbol{X}\\right)-d\\boldsymbol{X}^Td\\boldsymbol{X}=d\\boldsymbol{X}^T\\left(\\boldsymbol{F}^T\\boldsymbol{F}-\\boldsymbol{I}\\right)d\\boldsymbol{X}\n",
    "\\end{equation}\n",
    "With the right Cauchy-Green strain tensor $\\boldsymbol{C}:=\\boldsymbol{F}^T\\boldsymbol{F}$. \n",
    "\n",
    "Therefore the so called Green-Lagrange strain tensor\n",
    "\\begin{equation}\n",
    "\\boldsymbol{E}=\\frac{1}{2}\\left(\\boldsymbol{F}^T\\boldsymbol{F}-\\boldsymbol{I}\\right)\n",
    "\\end{equation}\n",
    "is a measure for the change of length of an infinitesimal line element with respect to the material configuration.\n",
    "\n",
    "The change of length can also be expressed with respect to the spatial configuration, leading to the Euler-Almansi strain tensor\n",
    "\\begin{equation}\n",
    "\\boldsymbol{e}=\\frac{1}{2}\\left(\\boldsymbol{I}-\\left(\\boldsymbol{F}\\boldsymbol{F}^T\\right)^{-1}\\right)\n",
    "\\end{equation}\n",
    "\n",
    "\n",
    "As both strain tensors belong to different configurations, their numerical values are different. Only for small deformations, both strain tensors are equal, and can be approximated by the infinitesimal strain tensor\n",
    "\\begin{equation}\n",
    "\\boldsymbol{\\epsilon}=\\frac{1}{2}\\left(\\boldsymbol{F}^T+\\boldsymbol{F}\\right)-\\boldsymbol{I}\n",
    "\\end{equation}"
   ]
  },
  {
   "cell_type": "code",
   "execution_count": 38,
   "metadata": {},
   "outputs": [
    {
     "name": "stdout",
     "output_type": "stream",
     "text": [
      "Green-Lagrange Strain Tensor\n",
      "[[0.149997 0.329989 0.      ]\n",
      " [0.329989 0.149997 0.      ]\n",
      " [0.       0.       0.      ]]\n",
      "Euler-Almansi Strain Tensor\n",
      "[[-0.01816808  0.26306239  0.        ]\n",
      " [ 0.26306239 -0.01816808  0.        ]\n",
      " [ 0.          0.          0.        ]]\n",
      "Linearized Strain Tensor\n",
      "[[0.1     0.29999 0.     ]\n",
      " [0.29999 0.1     0.     ]\n",
      " [0.      0.      0.     ]]\n"
     ]
    }
   ],
   "source": [
    "%run -i ./code/02_kinematics/strain_measures_eval"
   ]
  },
  {
   "cell_type": "code",
   "execution_count": 5,
   "metadata": {},
   "outputs": [
    {
     "data": {
      "application/vnd.jupyter.widget-view+json": {
       "model_id": "33b1af37bef343709d746b3f2f322df9",
       "version_major": 2,
       "version_minor": 0
      },
      "text/plain": [
       "interactive(children=(FloatSlider(value=0.5, description='shear', max=0.5, min=0.01, step=0.01), FloatSlider(v…"
      ]
     },
     "metadata": {},
     "output_type": "display_data"
    },
    {
     "data": {
      "application/vnd.jupyter.widget-view+json": {
       "model_id": "b8cd111efcaa4c5995f9e4e9347c45d7",
       "version_major": 2,
       "version_minor": 0
      },
      "text/plain": [
       "Button(description='Refresh', style=ButtonStyle())"
      ]
     },
     "metadata": {},
     "output_type": "display_data"
    }
   ],
   "source": [
    "%run -i ./code/02_kinematics/strain_measures_input"
   ]
  },
  {
   "cell_type": "code",
   "execution_count": 6,
   "metadata": {},
   "outputs": [
    {
     "data": {
      "image/png": "[encoded data removed]",
      "text/plain": [
       "<Figure size 432x288 with 1 Axes>"
      ]
     },
     "metadata": {
      "needs_background": "light"
     },
     "output_type": "display_data"
    },
    {
     "data": {
      "image/png": "[encoded data removed]",
      "text/plain": [
       "<Figure size 432x288 with 1 Axes>"
      ]
     },
     "metadata": {
      "needs_background": "light"
     },
     "output_type": "display_data"
    }
   ],
   "source": [
    "%run -i ./code/02_kinematics/strain_measures_plot"
   ]
  },
  {
   "cell_type": "markdown",
   "metadata": {},
   "source": [
    "# Eigenvalues and  Invariants"
   ]
  },
  {
   "cell_type": "markdown",
   "metadata": {},
   "source": [
    "invarianten als betrachterunabhängige größen\n",
    "\n",
    "maß für art der deformation\n",
    "\n",
    "eigenwert: dehnung im hauptachsensystem"
   ]
  },
  {
   "cell_type": "code",
   "execution_count": 39,
   "metadata": {},
   "outputs": [
    {
     "data": {
      "image/png": "[encoded data removed]",
      "text/plain": [
       "<Figure size 432x288 with 1 Axes>"
      ]
     },
     "metadata": {
      "needs_background": "light"
     },
     "output_type": "display_data"
    },
    {
     "name": "stdout",
     "output_type": "stream",
     "text": [
      "Eigenvalues Green-Lagrange\n",
      "[ 0.479986 -0.179992  0.      ]\n",
      "Eigenvalues Euler-Almansi\n",
      "[ 0.24489431 -0.28123047  0.        ]\n"
     ]
    }
   ],
   "source": [
    "%run -i ./code/02_kinematics/eigenvalues_output"
   ]
  },
  {
   "cell_type": "code",
   "execution_count": 40,
   "metadata": {},
   "outputs": [
    {
     "data": {
      "image/png": "[encoded data removed]",
      "text/plain": [
       "<Figure size 432x288 with 1 Axes>"
      ]
     },
     "metadata": {
      "needs_background": "light"
     },
     "output_type": "display_data"
    }
   ],
   "source": [
    "%run -i ./code/02_kinematics/deformation_state_output"
   ]
  },
  {
   "cell_type": "markdown",
   "metadata": {},
   "source": [
    "# Further Information"
   ]
  },
  {
   "cell_type": "markdown",
   "metadata": {},
   "source": [
    "Holzapfel, G. (2000). Nonlinear solid mechanics: a continuum approach for engineering.\n",
    "\n",
    "Destrade, M. et al. (2012). Simple shear is not so simple.\n",
    "\n",
    "Baaser, H. et al. (2013). Reformulation of strain invariants at incompressibility."
   ]
  }
 ],
 "metadata": {
  "kernelspec": {
   "display_name": "Python 3",
   "language": "python",
   "name": "python3"
  },
  "language_info": {
   "codemirror_mode": {
    "name": "ipython",
    "version": 3
   },
   "file_extension": ".py",
   "mimetype": "text/x-python",
   "name": "python",
   "nbconvert_exporter": "python",
   "pygments_lexer": "ipython3",
   "version": "3.7.6"
  }
 },
 "nbformat": 4,
 "nbformat_minor": 4
}
