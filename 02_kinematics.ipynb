{
 "cells": [
  {
   "cell_type": "code",
   "execution_count": 1,
   "metadata": {},
   "outputs": [
    {
     "data": {
      "application/javascript": [
       "Jupyter.notebook.execute_cells([3,4,7,9,12,13])"
      ],
      "text/plain": [
       "<IPython.core.display.Javascript object>"
      ]
     },
     "metadata": {},
     "output_type": "display_data"
    }
   ],
   "source": [
    "######################################\n",
    "# Run First Cell for Initialization  #\n",
    "#                                    #\n",
    "#           SHIFT + ENTER            #\n",
    "######################################\n",
    "\n",
    "# Initialize notebook\n",
    "%run -i ./code/02_kinematics/initialize\n",
    "# Load functions in external python scripts\n",
    "%load_ext autoreload\n",
    "%autoreload 1\n",
    "%aimport refresh\n",
    "\n",
    "display(Javascript(\"Jupyter.notebook.execute_cells([3,4,7,9,12,13])\"))"
   ]
  },
  {
   "cell_type": "markdown",
   "metadata": {},
   "source": [
    "# Deformation Gradient"
   ]
  },
  {
   "cell_type": "markdown",
   "metadata": {},
   "source": [
    "A body (solid continuum) in 3-dimensional space is given by a domain $\\Omega\\subset\\mathbb{R}^3$ as a collection of material points $\\boldsymbol{p}$. The body before and after deformation is represented by two different configurations. The reference (initial) configuration describes the undeformed body with material points $\\boldsymbol{p}$ with coordinates $\\boldsymbol{X}\\in\\Omega_0\\subset\\mathbb{R}^3$. A change of shape of the body (deformation) yields the current (deformed) configuration with material points $\\boldsymbol{p}'$ with coordinates $\\boldsymbol{x}\\in\\Omega\\subset\\mathbb{R}^3$.\n",
    "\n",
    "<img src=\"files/code/02_kinematics/configurations.JPG\" alt=\"Drawing\" style=\"width: 500px;\"/>\n",
    "\n",
    "Both configurations are connected by the deformation field \n",
    "\n",
    "\\begin{equation}\n",
    "\\boldsymbol{\\phi}:\\Omega_0\\rightarrow\\Omega,\\;\\boldsymbol{x}=\\boldsymbol{\\phi}\\left(\\boldsymbol{X},t\\right)\n",
    "\\end{equation}\n",
    "\n",
    "with the corresponding displacement field \n",
    "\n",
    "\\begin{equation}\n",
    "\\boldsymbol{u}:\\Omega_0\\rightarrow\\mathbb{R}^3,\\;\\boldsymbol{u}\\left(\\boldsymbol{X},t\\right)=\\boldsymbol{\\phi}\\left(\\boldsymbol{X},t\\right)-\\boldsymbol{X}=\\boldsymbol{x}-\\boldsymbol{X}\n",
    "\\end{equation}\n",
    "\n",
    "Capital letters denote the reference configuration, and smallercase letters denote the deformed configuration. A first order Taylor series approximation of the mapping $\\boldsymbol{\\phi}$\n",
    "\n",
    "\\begin{equation}\n",
    "\\boldsymbol{x}+d\\boldsymbol{x}=\\boldsymbol{\\phi}\\left(\\boldsymbol{X}+d\\boldsymbol{X}\\right)\\approx\\boldsymbol{\\phi}\\left(\\boldsymbol{X}\\right)+\\frac{d\\boldsymbol{\\phi}\\left(\\boldsymbol{X}\\right)}{d\\boldsymbol{X}}d\\boldsymbol{X}=\\boldsymbol{x}+\\nabla_{\\boldsymbol{X}}\\boldsymbol{\\phi}\\left(\\boldsymbol{X}\\right)d\\boldsymbol{X}\n",
    "\\end{equation}\n",
    "\n",
    "gives an approximation of the deformation of line elements $d\\boldsymbol{x}$ by\n",
    "\n",
    "\\begin{equation}\n",
    "d\\boldsymbol{x}\\approx\\nabla_{\\boldsymbol{X}}\\boldsymbol{\\phi}=\\left(\\boldsymbol{X}\\right)d\\boldsymbol{X}\n",
    "\\end{equation}\n",
    "\n",
    "The second order tensor $\\boldsymbol{F}:=\\nabla_{\\boldsymbol{X}}\\boldsymbol{\\phi}\\left(\\boldsymbol{X}\\right)=\\nabla_\\boldsymbol{X}\\boldsymbol{x}\\left(\\boldsymbol{X}\\right)=\\boldsymbol{I}+\\nabla_\\boldsymbol{X}\\boldsymbol{u}\\left(\\boldsymbol{X}\\right)$ defines the deformation gradient. The deformation gradient is the linearization of the mapping between reference and current deformation.\n",
    "\n",
    "The gradient operator corresponds to the componentwise derivative of the deformed vector $\\boldsymbol{x}$ with respect to the undeformed vector $\\boldsymbol{X}$\n",
    "\n",
    "\\begin{equation}\n",
    " F_{ij}=x_{i,j}=   \\frac{\\partial x_i}{\\partial X_j} =\n",
    " \\begin{bmatrix}\n",
    "   \\frac{\\partial x_1}{\\partial X_1} &\n",
    "   \\frac{\\partial x_1}{\\partial X_2} & \\frac{\\partial x_1}{\\partial X_3} \\\\\n",
    "   \\frac{\\partial x_2}{\\partial X_1} &\n",
    "   \\frac{\\partial x_2}{\\partial X_2} & \\frac{\\partial x_2}{\\partial X_3} \\\\\n",
    "      \\frac{\\partial x_3}{\\partial X_1} &\n",
    "   \\frac{\\partial x_3}{\\partial X_2} & \\frac{\\partial x_3}{\\partial X_3} \\\\\n",
    "   \\end{bmatrix}\n",
    "   \\end{equation}\n",
    "\n",
    "In the following we will restrict to plane stress states.\n",
    "\n",
    "The most simple deformation is stretching along the axes directions. Elongation in the 1-direction by 100% and elongation in the 2-direction by 60% is given by the deformation field\n",
    "\n",
    "\\begin{equation}\n",
    "x_1=2.0\\cdot X_1 + 0.0 \\cdot X_2\n",
    "\\\\\n",
    "x_2=0.0 \\cdot X_1 + 1.6 \\cdot X_2\n",
    "\\end{equation}\n",
    "\n",
    "which gives the deformation gradient\n",
    "\n",
    "\\begin{equation}\n",
    "\\boldsymbol{F}=\n",
    " \\begin{bmatrix}\n",
    "   2 & 0 \\\\\n",
    "   0 & 1.6\n",
    "   \\end{bmatrix}\n",
    "   \\end{equation}\n",
    "   \n",
    "## Polar Decomposition\n",
    "\n",
    "The deformation gradient can be uniquely composed into a part which rotates the body, and a part which changes the shape of the body. This multiplicative decomposition is called polar decomposition, which results in \n",
    "\n",
    "\\begin{equation}\n",
    "\\boldsymbol{F}=\\boldsymbol{R}\\cdot\\boldsymbol{U}=\\boldsymbol{v}\\cdot\\boldsymbol{R}\n",
    "\\end{equation}\n",
    "\n",
    "The symbols $\\boldsymbol{U}:=\\sqrt{\\boldsymbol{F}^T\\boldsymbol{F}}$ and $\\boldsymbol{v}:=\\sqrt{\\boldsymbol{F}\\boldsymbol{F}^T}$ denote the right and left stretch tensors, respectively. Both are symmetric positive definite.The symbol $\\boldsymbol{R}:=\\boldsymbol{F}\\cdot\\boldsymbol{U}^{-1}$ denotes the unimodular, orthogonal rotation tensor, i.e. $\\boldsymbol{R}^T\\cdot\\boldsymbol{R}=\\boldsymbol{R}\\cdot\\boldsymbol{R}^T=\\boldsymbol{I}$ and $\\text{det}\\left(\\boldsymbol{R}\\right)=1$\n",
    ".\n",
    "## Volume Change\n",
    "\n",
    "The volumetric strain is given by the determinant of the deformation gradient $J:=\\text{det}\\left(\\boldsymbol{F}\\right)>0$. At volume preserving deformations which we know from (nearly) incompressible materials, the Jacobian determinant equals one.\n",
    "\n",
    "The deformation gradient can further be composed into a part which changes the volume, and a part which changes the shape of body while preserving the volume, which is called deviatoric deformation.\n",
    "\n",
    "\\begin{equation}\n",
    "\\boldsymbol{F}=\\boldsymbol{R}\\cdot\\boldsymbol{U}=\\boldsymbol{R}\\cdot\\boldsymbol{U}_{dev}\\cdot\\boldsymbol{U}_{vol}\n",
    "\\end{equation}\n",
    "\n",
    "The deviatoric stretch tensor is unimodular, i.e. $\\text{det}\\left(\\boldsymbol{U}_{dev}\\right)=1$. The volumetric stretch tensor can be expressed with the scaled second order unit tensor $\\boldsymbol{U}_{vol}=\\epsilon_{vol}\\cdot\\boldsymbol{I}$\n",
    "\n",
    "\n",
    "The following examples are restricted to plane strain deformation states.\n"
   ]
  },
  {
   "cell_type": "code",
   "execution_count": 2,
   "metadata": {},
   "outputs": [
    {
     "data": {
      "application/vnd.jupyter.widget-view+json": {
       "model_id": "600542d9afa147a39f161c5868b4443e",
       "version_major": 2,
       "version_minor": 0
      },
      "text/plain": [
       "interactive(children=(FloatSlider(value=1.0, description='F11', max=2.0, min=0.5), FloatSlider(value=1.0, desc…"
      ]
     },
     "metadata": {},
     "output_type": "display_data"
    },
    {
     "data": {
      "application/vnd.jupyter.widget-view+json": {
       "model_id": "3a65f5ec5cf043d8a9880635f70818eb",
       "version_major": 2,
       "version_minor": 0
      },
      "text/plain": [
       "Button(description='Refresh', style=ButtonStyle())"
      ]
     },
     "metadata": {},
     "output_type": "display_data"
    },
    {
     "data": {
      "application/javascript": [
       "Jupyter.notebook.execute_cells([4])"
      ],
      "text/plain": [
       "<IPython.core.display.Javascript object>"
      ]
     },
     "metadata": {},
     "output_type": "display_data"
    },
    {
     "data": {
      "application/javascript": [
       "Jupyter.notebook.execute_cells([7])"
      ],
      "text/plain": [
       "<IPython.core.display.Javascript object>"
      ]
     },
     "metadata": {},
     "output_type": "display_data"
    },
    {
     "data": {
      "application/javascript": [
       "Jupyter.notebook.execute_cells([12])"
      ],
      "text/plain": [
       "<IPython.core.display.Javascript object>"
      ]
     },
     "metadata": {},
     "output_type": "display_data"
    },
    {
     "data": {
      "application/javascript": [
       "Jupyter.notebook.execute_cells([14])"
      ],
      "text/plain": [
       "<IPython.core.display.Javascript object>"
      ]
     },
     "metadata": {},
     "output_type": "display_data"
    },
    {
     "data": {
      "application/javascript": [
       "Jupyter.notebook.execute_cells([4])"
      ],
      "text/plain": [
       "<IPython.core.display.Javascript object>"
      ]
     },
     "metadata": {},
     "output_type": "display_data"
    },
    {
     "data": {
      "application/javascript": [
       "Jupyter.notebook.execute_cells([7])"
      ],
      "text/plain": [
       "<IPython.core.display.Javascript object>"
      ]
     },
     "metadata": {},
     "output_type": "display_data"
    },
    {
     "data": {
      "application/javascript": [
       "Jupyter.notebook.execute_cells([12])"
      ],
      "text/plain": [
       "<IPython.core.display.Javascript object>"
      ]
     },
     "metadata": {},
     "output_type": "display_data"
    },
    {
     "data": {
      "application/javascript": [
       "Jupyter.notebook.execute_cells([14])"
      ],
      "text/plain": [
       "<IPython.core.display.Javascript object>"
      ]
     },
     "metadata": {},
     "output_type": "display_data"
    },
    {
     "data": {
      "application/javascript": [
       "Jupyter.notebook.execute_cells([4])"
      ],
      "text/plain": [
       "<IPython.core.display.Javascript object>"
      ]
     },
     "metadata": {},
     "output_type": "display_data"
    },
    {
     "data": {
      "application/javascript": [
       "Jupyter.notebook.execute_cells([7])"
      ],
      "text/plain": [
       "<IPython.core.display.Javascript object>"
      ]
     },
     "metadata": {},
     "output_type": "display_data"
    },
    {
     "data": {
      "application/javascript": [
       "Jupyter.notebook.execute_cells([12])"
      ],
      "text/plain": [
       "<IPython.core.display.Javascript object>"
      ]
     },
     "metadata": {},
     "output_type": "display_data"
    },
    {
     "data": {
      "application/javascript": [
       "Jupyter.notebook.execute_cells([14])"
      ],
      "text/plain": [
       "<IPython.core.display.Javascript object>"
      ]
     },
     "metadata": {},
     "output_type": "display_data"
    },
    {
     "data": {
      "application/javascript": [
       "Jupyter.notebook.execute_cells([4])"
      ],
      "text/plain": [
       "<IPython.core.display.Javascript object>"
      ]
     },
     "metadata": {},
     "output_type": "display_data"
    },
    {
     "data": {
      "application/javascript": [
       "Jupyter.notebook.execute_cells([7])"
      ],
      "text/plain": [
       "<IPython.core.display.Javascript object>"
      ]
     },
     "metadata": {},
     "output_type": "display_data"
    },
    {
     "data": {
      "application/javascript": [
       "Jupyter.notebook.execute_cells([12])"
      ],
      "text/plain": [
       "<IPython.core.display.Javascript object>"
      ]
     },
     "metadata": {},
     "output_type": "display_data"
    },
    {
     "data": {
      "application/javascript": [
       "Jupyter.notebook.execute_cells([14])"
      ],
      "text/plain": [
       "<IPython.core.display.Javascript object>"
      ]
     },
     "metadata": {},
     "output_type": "display_data"
    },
    {
     "data": {
      "application/javascript": [
       "Jupyter.notebook.execute_cells([4])"
      ],
      "text/plain": [
       "<IPython.core.display.Javascript object>"
      ]
     },
     "metadata": {},
     "output_type": "display_data"
    },
    {
     "data": {
      "application/javascript": [
       "Jupyter.notebook.execute_cells([7])"
      ],
      "text/plain": [
       "<IPython.core.display.Javascript object>"
      ]
     },
     "metadata": {},
     "output_type": "display_data"
    },
    {
     "data": {
      "application/javascript": [
       "Jupyter.notebook.execute_cells([12])"
      ],
      "text/plain": [
       "<IPython.core.display.Javascript object>"
      ]
     },
     "metadata": {},
     "output_type": "display_data"
    },
    {
     "data": {
      "application/javascript": [
       "Jupyter.notebook.execute_cells([14])"
      ],
      "text/plain": [
       "<IPython.core.display.Javascript object>"
      ]
     },
     "metadata": {},
     "output_type": "display_data"
    }
   ],
   "source": [
    "%run -i ./code/02_kinematics/F_input"
   ]
  },
  {
   "cell_type": "code",
   "execution_count": 23,
   "metadata": {
    "scrolled": false
   },
   "outputs": [
    {
     "name": "stdout",
     "output_type": "stream",
     "text": [
      "Rotation Tensor\n",
      "R =\n",
      "[[ 0.99083017 -0.1351132   0.        ]\n",
      " [ 0.1351132   0.99083017  0.        ]\n",
      " [ 0.          0.          1.        ]]\n",
      "\n",
      "\n",
      "Right Stretch Tensor\n",
      "U =\n",
      "[[1.32861183 0.12159198 0.        ]\n",
      " [0.12159198 0.8917485  0.        ]\n",
      " [0.         0.         1.        ]]\n"
     ]
    },
    {
     "data": {
      "image/png": "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\n",
      "text/plain": [
       "<Figure size 432x288 with 1 Axes>"
      ]
     },
     "metadata": {
      "needs_background": "light"
     },
     "output_type": "display_data"
    },
    {
     "name": "stdout",
     "output_type": "stream",
     "text": [
      "Volume Ratio\n",
      "J =\n",
      "1.1700029998999997\n"
     ]
    },
    {
     "data": {
      "image/png": "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\n",
      "text/plain": [
       "<Figure size 432x288 with 1 Axes>"
      ]
     },
     "metadata": {
      "needs_background": "light"
     },
     "output_type": "display_data"
    }
   ],
   "source": [
    "%run -i ./code/02_kinematics/F_eval\n",
    "%run -i ./code/02_kinematics/F_dev_output\n",
    "%run -i ./code/02_kinematics/F_vol_output"
   ]
  },
  {
   "cell_type": "markdown",
   "metadata": {},
   "source": [
    "# Strain Measures"
   ]
  },
  {
   "cell_type": "markdown",
   "metadata": {},
   "source": [
    "At deformation, the length of the infinitesimal line element $d\\boldsymbol{X}$ is changed. The change of length between the infinitesimal line element in the reference configuration $d\\boldsymbol{X}$ and the length of the line element $d\\boldsymbol{x}$ in the deformed configuration leads to\n",
    "\n",
    "\\begin{equation}\n",
    "||d\\boldsymbol{x}||^2-||d\\boldsymbol{X}||^2=d\\boldsymbol{x}\\cdot d\\boldsymbol{x}-d\\boldsymbol{X}\\cdot d\\boldsymbol{X}\n",
    "\\\\\n",
    "=\\left(\\boldsymbol{F}d\\boldsymbol{X}\\right)^T\\left(\\boldsymbol{F}d\\boldsymbol{X}\\right)-d\\boldsymbol{X}^Td\\boldsymbol{X}=d\\boldsymbol{X}^T\\left(\\boldsymbol{F}^T\\boldsymbol{F}-\\boldsymbol{I}\\right)d\\boldsymbol{X}\n",
    "\\end{equation}\n",
    "\n",
    "With the right Cauchy-Green strain tensor\n",
    "\\begin{equation}\n",
    "\\boldsymbol{C}=\\boldsymbol{F}^T\\boldsymbol{F} = \\boldsymbol{U}^T\\boldsymbol{U}\n".
    "\\end{equation}\n",
    "\n",
    "Therefore the so called Green-Lagrange strain tensor\n",
    "\n",
    "\\begin{equation}\n",
    "\\boldsymbol{E}=\\frac{1}{2}\\left(\\boldsymbol{F}^T\\boldsymbol{F}-\\boldsymbol{I}\\right)\n",
    "\\end{equation}\n",
    "\n",
    "is a measure for the change of length of an infinitesimal line element with respect to the material configuration.\n",
    "For small deformations, the Green-Lagrange tensor can be approximated by it's linearization. The linearized strain tensor for small deformations is called infinitesimal strain tensor, and given by\n",
    "\n",
    "\\begin{equation}\n",
    "\\boldsymbol{E}_{lin}=\\boldsymbol{\\epsilon}=\\frac{1}{2}\\left(\\boldsymbol{F}^T+\\boldsymbol{F}\\right)-\\boldsymbol{I}\n",
    "\\end{equation}"
   ]
  },
  {
   "cell_type": "code",
   "execution_count": 24,
   "metadata": {},
   "outputs": [
    {
     "name": "stdout",
     "output_type": "stream",
     "text": [
      "Green-Lagrange Strain Tensor\n",
      "E =\n",
      "[[ 0.389997  0.134989  0.      ]\n",
      " [ 0.134989 -0.095     0.      ]\n",
      " [ 0.        0.        0.      ]]\n",
      "\n",
      "\n",
      "Linearized Strain Tensor\n",
      "E_lin =\n",
      "[[ 0.3      0.14999  0.     ]\n",
      " [ 0.14999 -0.1      0.     ]\n",
      " [ 0.       0.       0.     ]]\n"
     ]
    }
   ],
   "source": [
    "%run -i ./code/02_kinematics/strain_measures_eval"
   ]
  },
  {
   "cell_type": "markdown",
   "metadata": {},
   "source": [
    "In the graphic below, the Green-Lagrange Strain Tensor and the Linearized Strain Tensor for uniaxial tension are compared. The 11-component of the strain tensors is shown."
   ]
  },
  {
   "cell_type": "code",
   "execution_count": 5,
   "metadata": {},
   "outputs": [
    {
     "data": {
      "image/png": "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\n",
      "text/plain": [
       "<Figure size 432x288 with 1 Axes>"
      ]
     },
     "metadata": {
      "needs_background": "light"
     },
     "output_type": "display_data"
    }
   ],
   "source": [
    "%run -i ./code/02_kinematics/strain_measures_plot"
   ]
  },
  {
   "cell_type": "markdown",
   "metadata": {},
   "source": [
    "# Eigenvalues and  Invariants"
   ]
  },
  {
   "cell_type": "markdown",
   "metadata": {},
   "source": [
    "The eigenvalue problem for the right Cauchy-Green tensor $\\boldsymbol{C}$\n",
    "\n",
    "\\begin{equation}\n",
    "\\left(\\boldsymbol{C}-\\lambda_i^2\\boldsymbol{I}\\right)\\boldsymbol{N}_i=\\boldsymbol{0},\\;\\;\\;\\left(i=1,2,3;\\;\\text{no summation}\\right)\n",
    "\\end{equation}\n",
    "\n",
    "yields the three positive and real eigenvalues $\\lambda_i^2$ with their corresponding orthogonal and normalized eigenvectors $\\boldsymbol{N}_i$. The square roots of the eigenvalues give the principal stretches $\\lambda_i$, with the eigenvectors $\\boldsymbol{N}_i$ as principal directions. Rotated into the principal system, the Right Cauchy-Green tensor consists only of main diagonal elements. The tension entries become extremal, while the shear entries vanish.\n",
    "\n",
    "In the graphic below, the principal stretches for the plane strain deformation defined in the beginning of the notebook are shown."
   ]
  },
  {
   "cell_type": "code",
   "execution_count": 25,
   "metadata": {},
   "outputs": [
    {
     "data": {
      "image/png": "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\n",
      "text/plain": [
       "<Figure size 432x288 with 1 Axes>"
      ]
     },
     "metadata": {
      "needs_background": "light"
     },
     "output_type": "display_data"
    },
    {
     "name": "stdout",
     "output_type": "stream",
     "text": [
      "Principal Stretches\n",
      "[1.36017417 0.86018617 1.        ]\n",
      "\n",
      "\n",
      "Eigenvectors (ordered in columns)\n",
      "[[ 0.96792242 -0.25124926  0.        ]\n",
      " [ 0.25124926  0.96792242  0.        ]\n",
      " [ 0.          0.          1.        ]]\n"
     ]
    }
   ],
   "source": [
    "%run -i ./code/02_kinematics/eigenvalues_output"
   ]
  },
  {
   "cell_type": "markdown",
   "metadata": {},
   "source": [
    "The invariants of a tensor are scalar quantities which remain unchanged under change of observer. For example, the Euclidean norm of a first order tensor, which corresponds to the length of a vector, is invariant under rotation or translation:\n",
    "\n",
    "\\begin{equation}\n",
    "I\\left(\\boldsymbol{a}\\right)=\\sqrt{a_i^2}\n",
    "\\end{equation}\n",
    "\n",
    "A second order tensor $\\boldsymbol{A}$ with eigenvalues $A_i$ has three independent invariants.\n",
    "\n",
    "\\begin{equation}\n",
    "\\begin{aligned}\n",
    "I_1\\left(\\boldsymbol{A}\\right)&=\\text{tr}\\boldsymbol{A}\n",
    "\\\\\n",
    "&=A_1+A_2+A_3\n",
    "\\\\\n",
    "I_2\\left(\\boldsymbol{A}\\right)&=\\frac{1}{2}\\left(\\left(\\text{tr}\\boldsymbol{A}\\right)^2-\\text{tr}\\left(\\boldsymbol{A}^2\\right)\\right)\n",
    "\\\\\n",
    "&=A_1A_2+A_1A_3+A_2A_3\n",
    "\\\\\n",
    "I_3\\left(\\boldsymbol{A}\\right)&=\\text{det}\\boldsymbol{A}\n",
    "\\\\\n",
    "&=A_1A_2A_3\n",
    "\\\\\n",
    "\\end{aligned}\n",
    "\\end{equation}\n",
    "\n",
    "which can be derived from the Caley-Hamilton theorem, see for example Holzapfel (2000).\n",
    "The invariants of strain and deformation tensors can be used as a scalar measure for the state of deformation. The third invariant of the deformation gradient corresponds to the volumetric deformation ratio, while the second invariant of the Green-Lagrange tensor is a measure for the deviatoric deformation (change of shape, without volumetric deformation).\n",
    "\n",
    "With the three invariants, the deviatoric state of deformation can be further examined. The determinant of the deviatoric Right Cauchy-Green tensor equals one, since it contains no volumetric deformation. Two independent principal stretches remain, which can be uniquely determined when the first two invariants are given.\n",
    "\n",
    "In the graph below, the invariant plane for the first and second invariant of the Right Cauchy-Green tensor is displayed. It can be shown that every deformation lies between the \"Uniaxial Tension\" and the \"Equibiaxial Tension\" prototype deformations, with \"Shear\" between them, see e.g. Baaser (2013). With the first two invariants of an arbitrary deviatoric deformation it can be examined which kind of deformation is occuring. This can be important in the design process of mechanical components, e.g. with shear buffers made of rubber (is the state of deformation in the buffer actually a shear deformation?)."
   ]
  },
  {
   "cell_type": "code",
   "execution_count": 26,
   "metadata": {},
   "outputs": [
    {
     "data": {
      "image/png": "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\n",
      "text/plain": [
       "<Figure size 432x288 with 1 Axes>"
      ]
     },
     "metadata": {
      "needs_background": "light"
     },
     "output_type": "display_data"
    }
   ],
   "source": [
    "%run -i ./code/02_kinematics/deformation_state_output"
   ]
  },
  {
   "cell_type": "markdown",
   "metadata": {},
   "source": [
    "# Further Information"
   ]
  },
  {
   "cell_type": "markdown",
   "metadata": {},
   "source": [
    "Holzapfel, G. (2000). Nonlinear solid mechanics: a continuum approach for engineering.\n",
    "\n",
    "Destrade, M. et al. (2012). Simple shear is not so simple.\n",
    "\n",
    "Baaser, H. et al. (2013). Reformulation of strain invariants at incompressibility."
   ]
  }
 ],
 "metadata": {
  "kernelspec": {
   "display_name": "Python 3",
   "language": "python",
   "name": "python3"
  },
  "language_info": {
   "codemirror_mode": {
    "name": "ipython",
    "version": 3
   },
   "file_extension": ".py",
   "mimetype": "text/x-python",
   "name": "python",
   "nbconvert_exporter": "python",
   "pygments_lexer": "ipython3",
   "version": "3.7.6"
  }
 },
 "nbformat": 4,
 "nbformat_minor": 4
}
